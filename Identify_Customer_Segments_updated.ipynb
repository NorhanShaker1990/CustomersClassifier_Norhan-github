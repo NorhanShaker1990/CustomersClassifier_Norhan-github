{
 "cells": [
  {
   "cell_type": "markdown",
   "metadata": {},
   "source": [
    "# Project: Identify Customer Segments\n",
    "\n",
    "In this project, you will apply unsupervised learning techniques to identify segments of the population that form the core customer base for a mail-order sales company in Germany. These segments can then be used to direct marketing campaigns towards audiences that will have the highest expected rate of returns. The data that you will use has been provided by our partners at Bertelsmann Arvato Analytics, and represents a real-life data science task.\n",
    "\n",
    "This notebook will help you complete this task by providing a framework within which you will perform your analysis steps. In each step of the project, you will see some text describing the subtask that you will perform, followed by one or more code cells for you to complete your work. **Feel free to add additional code and markdown cells as you go along so that you can explore everything in precise chunks.** The code cells provided in the base template will outline only the major tasks, and will usually not be enough to cover all of the minor tasks that comprise it.\n",
    "\n",
    "It should be noted that while there will be precise guidelines on how you should handle certain tasks in the project, there will also be places where an exact specification is not provided. **There will be times in the project where you will need to make and justify your own decisions on how to treat the data.** These are places where there may not be only one way to handle the data. In real-life tasks, there may be many valid ways to approach an analysis task. One of the most important things you can do is clearly document your approach so that other scientists can understand the decisions you've made.\n",
    "\n",
    "At the end of most sections, there will be a Markdown cell labeled **Discussion**. In these cells, you will report your findings for the completed section, as well as document the decisions that you made in your approach to each subtask. **Your project will be evaluated not just on the code used to complete the tasks outlined, but also your communication about your observations and conclusions at each stage.**"
   ]
  },
  {
   "cell_type": "code",
   "execution_count": 1,
   "metadata": {},
   "outputs": [
    {
     "data": {
      "text/plain": [
       "'\\nImport note: The classroom currently uses sklearn version 0.19.\\nIf you need to use an imputer, it is available in sklearn.preprocessing.Imputer,\\ninstead of sklearn.impute as in newer versions of sklearn.\\n'"
      ]
     },
     "execution_count": 1,
     "metadata": {},
     "output_type": "execute_result"
    }
   ],
   "source": [
    "# import libraries here; add more as necessary\n",
    "import numpy as np\n",
    "import pandas as pd\n",
    "import matplotlib.pyplot as plt\n",
    "import seaborn as sns\n",
    "\n",
    "# magic word for producing visualizations in notebook\n",
    "%matplotlib inline\n",
    "\n",
    "'''\n",
    "Import note: The classroom currently uses sklearn version 0.19.\n",
    "If you need to use an imputer, it is available in sklearn.preprocessing.Imputer,\n",
    "instead of sklearn.impute as in newer versions of sklearn.\n",
    "'''"
   ]
  },
  {
   "cell_type": "markdown",
   "metadata": {},
   "source": [
    "### Step 0: Load the Data\n",
    "\n",
    "There are four files associated with this project (not including this one):\n",
    "\n",
    "- `Udacity_AZDIAS_Subset.csv`: Demographics data for the general population of Germany; 891211 persons (rows) x 85 features (columns).\n",
    "- `Udacity_CUSTOMERS_Subset.csv`: Demographics data for customers of a mail-order company; 191652 persons (rows) x 85 features (columns).\n",
    "- `Data_Dictionary.md`: Detailed information file about the features in the provided datasets.\n",
    "- `AZDIAS_Feature_Summary.csv`: Summary of feature attributes for demographics data; 85 features (rows) x 4 columns\n",
    "\n",
    "Each row of the demographics files represents a single person, but also includes information outside of individuals, including information about their household, building, and neighborhood. You will use this information to cluster the general population into groups with similar demographic properties. Then, you will see how the people in the customers dataset fit into those created clusters. The hope here is that certain clusters are over-represented in the customers data, as compared to the general population; those over-represented clusters will be assumed to be part of the core userbase. This information can then be used for further applications, such as targeting for a marketing campaign.\n",
    "\n",
    "To start off with, load in the demographics data for the general population into a pandas DataFrame, and do the same for the feature attributes summary. Note for all of the `.csv` data files in this project: they're semicolon (`;`) delimited, so you'll need an additional argument in your [`read_csv()`](https://pandas.pydata.org/pandas-docs/stable/generated/pandas.read_csv.html) call to read in the data properly. Also, considering the size of the main dataset, it may take some time for it to load completely.\n",
    "\n",
    "Once the dataset is loaded, it's recommended that you take a little bit of time just browsing the general structure of the dataset and feature summary file. You'll be getting deep into the innards of the cleaning in the first major step of the project, so gaining some general familiarity can help you get your bearings."
   ]
  },
  {
   "cell_type": "code",
   "execution_count": 2,
   "metadata": {},
   "outputs": [],
   "source": [
    "# Load in the general demographics data.\n",
    "azdias = pd.read_csv('Udacity_AZDIAS_Subset.csv', delimiter = ';')  \n",
    "\n",
    "# Load in the feature summary file.\n",
    "feat_info =  pd.read_csv('AZDIAS_Feature_Summary.csv', delimiter = ';')  "
   ]
  },
  {
   "cell_type": "code",
   "execution_count": 3,
   "metadata": {},
   "outputs": [
    {
     "data": {
      "text/html": [
       "<div>\n",
       "<style scoped>\n",
       "    .dataframe tbody tr th:only-of-type {\n",
       "        vertical-align: middle;\n",
       "    }\n",
       "\n",
       "    .dataframe tbody tr th {\n",
       "        vertical-align: top;\n",
       "    }\n",
       "\n",
       "    .dataframe thead th {\n",
       "        text-align: right;\n",
       "    }\n",
       "</style>\n",
       "<table border=\"1\" class=\"dataframe\">\n",
       "  <thead>\n",
       "    <tr style=\"text-align: right;\">\n",
       "      <th></th>\n",
       "      <th>attribute</th>\n",
       "      <th>information_level</th>\n",
       "      <th>type</th>\n",
       "      <th>missing_or_unknown</th>\n",
       "    </tr>\n",
       "  </thead>\n",
       "  <tbody>\n",
       "    <tr>\n",
       "      <th>0</th>\n",
       "      <td>AGER_TYP</td>\n",
       "      <td>person</td>\n",
       "      <td>categorical</td>\n",
       "      <td>[-1,0]</td>\n",
       "    </tr>\n",
       "    <tr>\n",
       "      <th>1</th>\n",
       "      <td>ALTERSKATEGORIE_GROB</td>\n",
       "      <td>person</td>\n",
       "      <td>ordinal</td>\n",
       "      <td>[-1,0,9]</td>\n",
       "    </tr>\n",
       "    <tr>\n",
       "      <th>2</th>\n",
       "      <td>ANREDE_KZ</td>\n",
       "      <td>person</td>\n",
       "      <td>categorical</td>\n",
       "      <td>[-1,0]</td>\n",
       "    </tr>\n",
       "    <tr>\n",
       "      <th>3</th>\n",
       "      <td>CJT_GESAMTTYP</td>\n",
       "      <td>person</td>\n",
       "      <td>categorical</td>\n",
       "      <td>[0]</td>\n",
       "    </tr>\n",
       "    <tr>\n",
       "      <th>4</th>\n",
       "      <td>FINANZ_MINIMALIST</td>\n",
       "      <td>person</td>\n",
       "      <td>ordinal</td>\n",
       "      <td>[-1]</td>\n",
       "    </tr>\n",
       "    <tr>\n",
       "      <th>5</th>\n",
       "      <td>FINANZ_SPARER</td>\n",
       "      <td>person</td>\n",
       "      <td>ordinal</td>\n",
       "      <td>[-1]</td>\n",
       "    </tr>\n",
       "    <tr>\n",
       "      <th>6</th>\n",
       "      <td>FINANZ_VORSORGER</td>\n",
       "      <td>person</td>\n",
       "      <td>ordinal</td>\n",
       "      <td>[-1]</td>\n",
       "    </tr>\n",
       "    <tr>\n",
       "      <th>7</th>\n",
       "      <td>FINANZ_ANLEGER</td>\n",
       "      <td>person</td>\n",
       "      <td>ordinal</td>\n",
       "      <td>[-1]</td>\n",
       "    </tr>\n",
       "    <tr>\n",
       "      <th>8</th>\n",
       "      <td>FINANZ_UNAUFFAELLIGER</td>\n",
       "      <td>person</td>\n",
       "      <td>ordinal</td>\n",
       "      <td>[-1]</td>\n",
       "    </tr>\n",
       "    <tr>\n",
       "      <th>9</th>\n",
       "      <td>FINANZ_HAUSBAUER</td>\n",
       "      <td>person</td>\n",
       "      <td>ordinal</td>\n",
       "      <td>[-1]</td>\n",
       "    </tr>\n",
       "    <tr>\n",
       "      <th>10</th>\n",
       "      <td>FINANZTYP</td>\n",
       "      <td>person</td>\n",
       "      <td>categorical</td>\n",
       "      <td>[-1]</td>\n",
       "    </tr>\n",
       "    <tr>\n",
       "      <th>11</th>\n",
       "      <td>GEBURTSJAHR</td>\n",
       "      <td>person</td>\n",
       "      <td>numeric</td>\n",
       "      <td>[0]</td>\n",
       "    </tr>\n",
       "    <tr>\n",
       "      <th>12</th>\n",
       "      <td>GFK_URLAUBERTYP</td>\n",
       "      <td>person</td>\n",
       "      <td>categorical</td>\n",
       "      <td>[]</td>\n",
       "    </tr>\n",
       "    <tr>\n",
       "      <th>13</th>\n",
       "      <td>GREEN_AVANTGARDE</td>\n",
       "      <td>person</td>\n",
       "      <td>categorical</td>\n",
       "      <td>[]</td>\n",
       "    </tr>\n",
       "    <tr>\n",
       "      <th>14</th>\n",
       "      <td>HEALTH_TYP</td>\n",
       "      <td>person</td>\n",
       "      <td>ordinal</td>\n",
       "      <td>[-1,0]</td>\n",
       "    </tr>\n",
       "    <tr>\n",
       "      <th>15</th>\n",
       "      <td>LP_LEBENSPHASE_FEIN</td>\n",
       "      <td>person</td>\n",
       "      <td>mixed</td>\n",
       "      <td>[0]</td>\n",
       "    </tr>\n",
       "    <tr>\n",
       "      <th>16</th>\n",
       "      <td>LP_LEBENSPHASE_GROB</td>\n",
       "      <td>person</td>\n",
       "      <td>mixed</td>\n",
       "      <td>[0]</td>\n",
       "    </tr>\n",
       "    <tr>\n",
       "      <th>17</th>\n",
       "      <td>LP_FAMILIE_FEIN</td>\n",
       "      <td>person</td>\n",
       "      <td>categorical</td>\n",
       "      <td>[0]</td>\n",
       "    </tr>\n",
       "    <tr>\n",
       "      <th>18</th>\n",
       "      <td>LP_FAMILIE_GROB</td>\n",
       "      <td>person</td>\n",
       "      <td>categorical</td>\n",
       "      <td>[0]</td>\n",
       "    </tr>\n",
       "    <tr>\n",
       "      <th>19</th>\n",
       "      <td>LP_STATUS_FEIN</td>\n",
       "      <td>person</td>\n",
       "      <td>categorical</td>\n",
       "      <td>[0]</td>\n",
       "    </tr>\n",
       "  </tbody>\n",
       "</table>\n",
       "</div>"
      ],
      "text/plain": [
       "                attribute information_level         type missing_or_unknown\n",
       "0                AGER_TYP            person  categorical             [-1,0]\n",
       "1    ALTERSKATEGORIE_GROB            person      ordinal           [-1,0,9]\n",
       "2               ANREDE_KZ            person  categorical             [-1,0]\n",
       "3           CJT_GESAMTTYP            person  categorical                [0]\n",
       "4       FINANZ_MINIMALIST            person      ordinal               [-1]\n",
       "5           FINANZ_SPARER            person      ordinal               [-1]\n",
       "6        FINANZ_VORSORGER            person      ordinal               [-1]\n",
       "7          FINANZ_ANLEGER            person      ordinal               [-1]\n",
       "8   FINANZ_UNAUFFAELLIGER            person      ordinal               [-1]\n",
       "9        FINANZ_HAUSBAUER            person      ordinal               [-1]\n",
       "10              FINANZTYP            person  categorical               [-1]\n",
       "11            GEBURTSJAHR            person      numeric                [0]\n",
       "12        GFK_URLAUBERTYP            person  categorical                 []\n",
       "13       GREEN_AVANTGARDE            person  categorical                 []\n",
       "14             HEALTH_TYP            person      ordinal             [-1,0]\n",
       "15    LP_LEBENSPHASE_FEIN            person        mixed                [0]\n",
       "16    LP_LEBENSPHASE_GROB            person        mixed                [0]\n",
       "17        LP_FAMILIE_FEIN            person  categorical                [0]\n",
       "18        LP_FAMILIE_GROB            person  categorical                [0]\n",
       "19         LP_STATUS_FEIN            person  categorical                [0]"
      ]
     },
     "execution_count": 3,
     "metadata": {},
     "output_type": "execute_result"
    }
   ],
   "source": [
    "# Check the structure of the data after it's loaded (e.g. print the number of\n",
    "# rows and columns, print the first few rows).\n",
    "\n",
    "feat_info.shape\n",
    "feat_info.head(20)\n"
   ]
  },
  {
   "cell_type": "markdown",
   "metadata": {},
   "source": [
    "> **Tip**: Add additional cells to keep everything in reasonably-sized chunks! Keyboard shortcut `esc --> a` (press escape to enter command mode, then press the 'A' key) adds a new cell before the active cell, and `esc --> b` adds a new cell after the active cell. If you need to convert an active cell to a markdown cell, use `esc --> m` and to convert to a code cell, use `esc --> y`. \n",
    "\n",
    "## Step 1: Preprocessing\n",
    "\n",
    "### Step 1.1: Assess Missing Data\n",
    "\n",
    "The feature summary file contains a summary of properties for each demographics data column. You will use this file to help you make cleaning decisions during this stage of the project. First of all, you should assess the demographics data in terms of missing data. Pay attention to the following points as you perform your analysis, and take notes on what you observe. Make sure that you fill in the **Discussion** cell with your findings and decisions at the end of each step that has one!\n",
    "\n",
    "#### Step 1.1.1: Convert Missing Value Codes to NaNs\n",
    "The fourth column of the feature attributes summary (loaded in above as `feat_info`) documents the codes from the data dictionary that indicate missing or unknown data. While the file encodes this as a list (e.g. `[-1,0]`), this will get read in as a string object. You'll need to do a little bit of parsing to make use of it to identify and clean the data. Convert data that matches a 'missing' or 'unknown' value code into a numpy NaN value. You might want to see how much data takes on a 'missing' or 'unknown' code, and how much data is naturally missing, as a point of interest.\n",
    "\n",
    "**As one more reminder, you are encouraged to add additional cells to break up your analysis into manageable chunks.**"
   ]
  },
  {
   "cell_type": "code",
   "execution_count": 4,
   "metadata": {},
   "outputs": [],
   "source": [
    "# Identify missing or unknown data values and convert them to NaNs.\n",
    "for LoopOnData in range(len(feat_info)):\n",
    "    missingOrUnknownData = feat_info.iloc[LoopOnData]['missing_or_unknown']\n",
    "    missingOrUnknownData = missingOrUnknownData.strip('[')\n",
    "    missingOrUnknownData = missingOrUnknownData.strip(']')\n",
    "    missingOrUnknownData = missingOrUnknownData.split(sep = ',')\n",
    "    missingOrUnknownData = [int(value) if (value!='X' and value!='XX' and value!='') else value for value in missingOrUnknownData]\n",
    "    \n",
    "    if missingOrUnknownData != ['']:\n",
    "        azdias = azdias.replace({feat_info.iloc[LoopOnData]['attribute']:missingOrUnknownData},np.nan )\n"
   ]
  },
  {
   "cell_type": "markdown",
   "metadata": {},
   "source": [
    "#### Step 1.1.2: Assess Missing Data in Each Column\n",
    "\n",
    "How much missing data is present in each column? There are a few columns that are outliers in terms of the proportion of values that are missing. You will want to use matplotlib's [`hist()`](https://matplotlib.org/api/_as_gen/matplotlib.pyplot.hist.html) function to visualize the distribution of missing value counts to find these columns. Identify and document these columns. While some of these columns might have justifications for keeping or re-encoding the data, for this project you should just remove them from the dataframe. (Feel free to make remarks about these outlier columns in the discussion, however!)\n",
    "\n",
    "For the remaining features, are there any patterns in which columns have, or share, missing data?"
   ]
  },
  {
   "cell_type": "code",
   "execution_count": 5,
   "metadata": {},
   "outputs": [],
   "source": [
    "# Perform an assessment of how much missing data there is in each column of the\n",
    "# dataset.\n",
    "missingValueForColumns = (azdias.isnull().sum()/len(azdias))*100\n"
   ]
  },
  {
   "cell_type": "code",
   "execution_count": 6,
   "metadata": {},
   "outputs": [
    {
     "data": {
      "image/png": "[encoded data removed]",
      "text/plain": [
       "<matplotlib.figure.Figure at 0x7f46b14c3f60>"
      ]
     },
     "metadata": {
      "needs_background": "light"
     },
     "output_type": "display_data"
    }
   ],
   "source": [
    "# Investigate patterns in the amount of missing data in each column.\n",
    "\n",
    "# Investigate patterns in the amount of missing data in each column.\n",
    "plt.hist(missingValueForColumns, bins=100)\n",
    "plt.ylabel('Number of Columns')\n",
    "plt.xlabel('Percentage of Missing Values')\n",
    "plt.show()\n"
   ]
  },
  {
   "cell_type": "code",
   "execution_count": 7,
   "metadata": {},
   "outputs": [],
   "source": [
    "# Remove the outlier columns from the dataset. (You'll perform other data\n",
    "# engineering tasks such as re-encoding and imputation later.)\n",
    "missingValueForColumns_20 = missingValueForColumns[missingValueForColumns>20]\n",
    "missingValueForColumns_20 = missingValueForColumns_20.index.tolist()\n",
    "azdias = azdias.drop(missingValueForColumns_20, axis=1)\n"
   ]
  },
  {
   "cell_type": "markdown",
   "metadata": {},
   "source": [
    "#### Discussion 1.1.2: Assess Missing Data in Each Column\n",
    "\n",
    "In this step we remove columns having missind data more than 20% and this is concluded from the earlier histogram"
   ]
  },
  {
   "cell_type": "markdown",
   "metadata": {},
   "source": [
    "#### Step 1.1.3: Assess Missing Data in Each Row\n",
    "\n",
    "Now, you'll perform a similar assessment for the rows of the dataset. How much data is missing in each row? As with the columns, you should see some groups of points that have a very different numbers of missing values. Divide the data into two subsets: one for data points that are above some threshold for missing values, and a second subset for points below that threshold.\n",
    "\n",
    "In order to know what to do with the outlier rows, we should see if the distribution of data values on columns that are not missing data (or are missing very little data) are similar or different between the two groups. Select at least five of these columns and compare the distribution of values.\n",
    "- You can use seaborn's [`countplot()`](https://seaborn.pydata.org/generated/seaborn.countplot.html) function to create a bar chart of code frequencies and matplotlib's [`subplot()`](https://matplotlib.org/api/_as_gen/matplotlib.pyplot.subplot.html) function to put bar charts for the two subplots side by side.\n",
    "- To reduce repeated code, you might want to write a function that can perform this comparison, taking as one of its arguments a column to be compared.\n",
    "\n",
    "Depending on what you observe in your comparison, this will have implications on how you approach your conclusions later in the analysis. If the distributions of non-missing features look similar between the data with many missing values and the data with few or no missing values, then we could argue that simply dropping those points from the analysis won't present a major issue. On the other hand, if the data with many missing values looks very different from the data with few or no missing values, then we should make a note on those data as special. We'll revisit these data later on. **Either way, you should continue your analysis for now using just the subset of the data with few or no missing values.**"
   ]
  },
  {
   "cell_type": "code",
   "execution_count": 8,
   "metadata": {},
   "outputs": [
    {
     "data": {
      "image/png": "[encoded data removed]",
      "text/plain": [
       "<matplotlib.figure.Figure at 0x7f46aed10978>"
      ]
     },
     "metadata": {
      "needs_background": "light"
     },
     "output_type": "display_data"
    }
   ],
   "source": [
    "# How much data is missing in each row of the dataset?\n",
    "MissingDataPerRow =azdias.isnull().sum(axis=1)\n",
    "plt.hist(MissingDataPerRow, bins=100)\n",
    "plt.ylabel('Number of Rows')\n",
    "plt.xlabel('Number of Missing Values')\n",
    "plt.show()\n"
   ]
  },
  {
   "cell_type": "code",
   "execution_count": 9,
   "metadata": {},
   "outputs": [],
   "source": [
    "# Write code to divide the data into two subsets based on the number of missing\n",
    "# values in each row.\n",
    "MissingValuesLessThan_30 = azdias[azdias.isnull().sum(axis=1) <= 30]\n",
    "MissingValuesGreaterThan_30 = azdias[azdias.isnull().sum(axis=1) > 30]"
   ]
  },
  {
   "cell_type": "code",
   "execution_count": 10,
   "metadata": {},
   "outputs": [
    {
     "data": {
      "image/png": "[encoded data removed]",
      "text/plain": [
       "<matplotlib.figure.Figure at 0x7f46990029b0>"
      ]
     },
     "metadata": {
      "needs_background": "light"
     },
     "output_type": "display_data"
    }
   ],
   "source": [
    "# Compare the distribution of values for at least five columns where there are\n",
    "# no or few missing values, between the two subsets.\n",
    "zero_missing_coloumns = missingValueForColumns[missingValueForColumns==0].index.tolist()\n",
    "compareColumns = zero_missing_coloumns[:6]\n",
    "figure, axs = plt.subplots(nrows=len(compareColumns), ncols=2, figsize = (15,20))\n",
    "figure.subplots_adjust(hspace = 1, wspace=.3)\n",
    "for i in range(len(compareColumns)):\n",
    "    sns.countplot(MissingValuesLessThan_30[compareColumns[i]], ax=axs[i][0])\n",
    "    axs[i][0].set_title('Few or no missing values')\n",
    "    sns.countplot(MissingValuesGreaterThan_30[compareColumns[i]], ax=axs[i][1])\n",
    "    axs[i][1].set_title('Many missing values')"
   ]
  },
  {
   "cell_type": "markdown",
   "metadata": {},
   "source": [
    "#### Discussion 1.1.3: Assess Missing Data in Each Row\n",
    "\n",
    "From the charts above, the distributions of values between the two datasets are similar features like Gender feature, but are  different for some other features like Financial features."
   ]
  },
  {
   "cell_type": "markdown",
   "metadata": {},
   "source": [
    "### Step 1.2: Select and Re-Encode Features\n",
    "\n",
    "Checking for missing data isn't the only way in which you can prepare a dataset for analysis. Since the unsupervised learning techniques to be used will only work on data that is encoded numerically, you need to make a few encoding changes or additional assumptions to be able to make progress. In addition, while almost all of the values in the dataset are encoded using numbers, not all of them represent numeric values. Check the third column of the feature summary (`feat_info`) for a summary of types of measurement.\n",
    "- For numeric and interval data, these features can be kept without changes.\n",
    "- Most of the variables in the dataset are ordinal in nature. While ordinal values may technically be non-linear in spacing, make the simplifying assumption that the ordinal variables can be treated as being interval in nature (that is, kept without any changes).\n",
    "- Special handling may be necessary for the remaining two variable types: categorical, and 'mixed'.\n",
    "\n",
    "In the first two parts of this sub-step, you will perform an investigation of the categorical and mixed-type features and make a decision on each of them, whether you will keep, drop, or re-encode each. Then, in the last part, you will create a new data frame with only the selected and engineered columns.\n",
    "\n",
    "Data wrangling is often the trickiest part of the data analysis process, and there's a lot of it to be done here. But stick with it: once you're done with this step, you'll be ready to get to the machine learning parts of the project!"
   ]
  },
  {
   "cell_type": "code",
   "execution_count": 11,
   "metadata": {},
   "outputs": [
    {
     "name": "stdout",
     "output_type": "stream",
     "text": [
      "79\n",
      "the Feature ordinal have 49 occurance.\n",
      "the Feature categorical have 18 occurance.\n",
      "the Feature mixed have 6 occurance.\n",
      "the Feature numeric have 6 occurance.\n"
     ]
    }
   ],
   "source": [
    "# How many features are there of each data type?\n",
    "Cleanfeatures = list(MissingValuesLessThan_30.columns)\n",
    "CleanFeturesInfo = feat_info[feat_info['attribute'].isin(Cleanfeatures)]\n",
    "DataTypeCounts = CleanFeturesInfo['type'].value_counts()\n",
    "print(len(CleanFeturesInfo))\n",
    "for i in range(len(DataTypeCounts)):\n",
    "    print('the Feature {} have {} occurance.'.format(DataTypeCounts.index[i],DataTypeCounts[i]))\n"
   ]
  },
  {
   "cell_type": "markdown",
   "metadata": {},
   "source": [
    "#### Step 1.2.1: Re-Encode Categorical Features\n",
    "\n",
    "For categorical data, you would ordinarily need to encode the levels as dummy variables. Depending on the number of categories, perform one of the following:\n",
    "- For binary (two-level) categoricals that take numeric values, you can keep them without needing to do anything.\n",
    "- There is one binary variable that takes on non-numeric values. For this one, you need to re-encode the values as numbers or create a dummy variable.\n",
    "- For multi-level categoricals (three or more values), you can choose to encode the values using multiple dummy variables (e.g. via [OneHotEncoder](http://scikit-learn.org/stable/modules/generated/sklearn.preprocessing.OneHotEncoder.html)), or (to keep things straightforward) just drop them from the analysis. As always, document your choices in the Discussion section."
   ]
  },
  {
   "cell_type": "code",
   "execution_count": 12,
   "metadata": {},
   "outputs": [
    {
     "name": "stdout",
     "output_type": "stream",
     "text": [
      "Unique values for ANREDE_KZ are [2 1]\n",
      "Unique values for GREEN_AVANTGARDE are [0 1]\n",
      "Unique values for SOHO_KZ are [ 1.  0.]\n",
      "Unique values for OST_WEST_KZ are ['W' 'O']\n"
     ]
    }
   ],
   "source": [
    "# Assess categorical variables: which are binary, which are multi-level, and\n",
    "# which one needs to be re-encoded?\n",
    "CategoricalFeatures = CleanFeturesInfo[CleanFeturesInfo[\"type\"] == \"categorical\"][\"attribute\"]\n",
    "BinaryFeatures = []\n",
    "MultiLevelFeature=[]\n",
    "for feature in CategoricalFeatures:\n",
    "    if (len(MissingValuesLessThan_30[feature].unique())==2):\n",
    "        BinaryFeatures.append(feature)\n",
    "    elif (len(MissingValuesLessThan_30[feature].unique())>2):\n",
    "        MultiLevelFeature.append(feature)\n",
    "        \n",
    "for feature in BinaryFeatures:\n",
    "    print('Unique values for {} are {}'.format(feature, MissingValuesLessThan_30[feature].unique()))\n"
   ]
  },
  {
   "cell_type": "code",
   "execution_count": 13,
   "metadata": {},
   "outputs": [],
   "source": [
    "# Re-encode categorical variable(s) to be kept in the analysis.\n",
    "NewMapping = {'W': 0, 'O': 1}\n",
    "azdias_clean = MissingValuesLessThan_30.replace({'OST_WEST_KZ':NewMapping})\n",
    "    \n",
    "for feature in MultiLevelFeature:\n",
    "    azdias_clean=azdias_clean.drop(feature, axis=1) \n"
   ]
  },
  {
   "cell_type": "markdown",
   "metadata": {},
   "source": [
    "#### Discussion 1.2.1: Re-Encode Categorical Features\n",
    "\n",
    "We  drop allmultilevel feature, mapp'OST_WEST_KZ'feature to all numbers and leave binary features with all numbers as it "
   ]
  },
  {
   "cell_type": "markdown",
   "metadata": {},
   "source": [
    "#### Step 1.2.2: Engineer Mixed-Type Features\n",
    "\n",
    "There are a handful of features that are marked as \"mixed\" in the feature summary that require special treatment in order to be included in the analysis. There are two in particular that deserve attention; the handling of the rest are up to your own choices:\n",
    "- \"PRAEGENDE_JUGENDJAHRE\" combines information on three dimensions: generation by decade, movement (mainstream vs. avantgarde), and nation (east vs. west). While there aren't enough levels to disentangle east from west, you should create two new variables to capture the other two dimensions: an interval-type variable for decade, and a binary variable for movement.\n",
    "- \"CAMEO_INTL_2015\" combines information on two axes: wealth and life stage. Break up the two-digit codes by their 'tens'-place and 'ones'-place digits into two new ordinal variables (which, for the purposes of this project, is equivalent to just treating them as their raw numeric values).\n",
    "- If you decide to keep or engineer new features around the other mixed-type features, make sure you note your steps in the Discussion section.\n",
    "\n",
    "Be sure to check `Data_Dictionary.md` for the details needed to finish these tasks."
   ]
  },
  {
   "cell_type": "code",
   "execution_count": 14,
   "metadata": {},
   "outputs": [],
   "source": [
    "# Investigate \"PRAEGENDE_JUGENDJAHRE\" and engineer two new variables.\n",
    "\n",
    "azdias_clean['DECADE'] = azdias_clean['PRAEGENDE_JUGENDJAHRE']\n",
    "azdias_clean['MOVEMENT'] = azdias_clean['PRAEGENDE_JUGENDJAHRE']\n",
    "DecadeDicMapping = {1:1, 2:1, 3:2, 4:2, 5:3, 6:3, 7:3, 8:4, 9:4, 10:5, 11:5, 12:5, 13:5, 14:6, 15:6}\n",
    "MovmentDictMapping = {1:1, 2:0, 3:1, 4:0, 5:1, 6:0, 7:0, 8:1, 9:0, 10:1, 11:0, 12:1, 13:0, 14:1, 15:0}\n",
    "azdias_clean['DECADE'].replace(DecadeDicMapping, inplace=True)\n",
    "azdias_clean['MOVEMENT'].replace(MovmentDictMapping, inplace=True)"
   ]
  },
  {
   "cell_type": "code",
   "execution_count": 15,
   "metadata": {},
   "outputs": [],
   "source": [
    "# Investigate \"CAMEO_INTL_2015\" and engineer two new variables.\n",
    "azdias_clean['WEALTH'] = azdias_clean['CAMEO_INTL_2015']\n",
    "azdias_clean['LIFE_STAGE'] = azdias_clean['CAMEO_INTL_2015']\n",
    "WealthMapping = {'11':1, '12':1, '13':1, '14':1, '15':1, '21':2, '22':2, '23':2, '24':2, '25':2,\n",
    "               '31':3, '32':3, '33':3, '34':3, '35':3, '41':4, '42':4, '43':4, '44':4, '45':4,\n",
    "               '51':5, '52':5, '53':5, '54':5, '55':5}\n",
    "\n",
    "LifeStageMapping = {'11':1, '12':2, '13':3, '14':4, '15':5, '21':1, '22':2, '23':3, '24':4, '25':5,\n",
    "                   '31':1, '32':2, '33':3, '34':4, '35':5, '41':1, '42':2, '43':3, '44':4, '45':5,\n",
    "                   '51':1, '52':2, '53':3, '54':4, '55':5}\n",
    "\n",
    "azdias_clean['WEALTH'].replace(WealthMapping, inplace=True)\n",
    "azdias_clean['LIFE_STAGE'].replace(LifeStageMapping, inplace=True)\n"
   ]
  },
  {
   "cell_type": "markdown",
   "metadata": {},
   "source": [
    "#### Discussion 1.2.2: Engineer Mixed-Type Features\n",
    "\n",
    "for the below features \n",
    "PRAEGENDE_JUGENDJAHRE\n",
    "CAMEO_INTL_2015\n",
    "\n",
    "We added two new feature columns, and copied values from the initial mixed-value feature column\n",
    "We added two dictionaries to map intial feature values to new feature values andreplace with the new mapped values, also dropped other mixed features as below"
   ]
  },
  {
   "cell_type": "markdown",
   "metadata": {},
   "source": [
    "#### Step 1.2.3: Complete Feature Selection\n",
    "\n",
    "In order to finish this step up, you need to make sure that your data frame now only has the columns that you want to keep. To summarize, the dataframe should consist of the following:\n",
    "- All numeric, interval, and ordinal type columns from the original dataset.\n",
    "- Binary categorical features (all numerically-encoded).\n",
    "- Engineered features from other multi-level categorical features and mixed features.\n",
    "\n",
    "Make sure that for any new columns that you have engineered, that you've excluded the original columns from the final dataset. Otherwise, their values will interfere with the analysis later on the project. For example, you should not keep \"PRAEGENDE_JUGENDJAHRE\", since its values won't be useful for the algorithm: only the values derived from it in the engineered features you created should be retained. As a reminder, your data should only be from **the subset with few or no missing values**."
   ]
  },
  {
   "cell_type": "code",
   "execution_count": 16,
   "metadata": {},
   "outputs": [],
   "source": [
    "# If there are other re-engineering tasks you need to perform, make sure you\n",
    "# take care of them here. (Dealing with missing data will come in step 2.1.)\n",
    "FinalMixedFeatures = CleanFeturesInfo[CleanFeturesInfo[\"type\"]==\"mixed\"][\"attribute\"]\n",
    "for feature in FinalMixedFeatures:\n",
    "    azdias_clean.drop(feature, axis=1, inplace=True)\n"
   ]
  },
  {
   "cell_type": "code",
   "execution_count": null,
   "metadata": {},
   "outputs": [],
   "source": [
    "# Do whatever you need to in order to ensure that the dataframe only contains\n",
    "# the columns that should be passed to the algorithm functions.\n",
    "\n"
   ]
  },
  {
   "cell_type": "markdown",
   "metadata": {},
   "source": [
    "### Step 1.3: Create a Cleaning Function\n",
    "\n",
    "Even though you've finished cleaning up the general population demographics data, it's important to look ahead to the future and realize that you'll need to perform the same cleaning steps on the customer demographics data. In this substep, complete the function below to execute the main feature selection, encoding, and re-engineering steps you performed above. Then, when it comes to looking at the customer data in Step 3, you can just run this function on that DataFrame to get the trimmed dataset in a single step."
   ]
  },
  {
   "cell_type": "code",
   "execution_count": 17,
   "metadata": {},
   "outputs": [],
   "source": [
    "def clean_data(df):\n",
    "    \"\"\"\n",
    "    Perform feature trimming, re-encoding, and engineering for demographics\n",
    "    data\n",
    "    \n",
    "    INPUT: Demographics DataFrame\n",
    "    OUTPUT: Trimmed and cleaned demographics DataFrame\n",
    "    \"\"\"\n",
    "    \n",
    "    # Put in code here to execute all main cleaning steps:\n",
    "    # convert missing value codes into NaNs, ...\n",
    "    for LoopOnData in range(len(feat_info)):\n",
    "        missingOrUnknownData = feat_info.iloc[LoopOnData]['missing_or_unknown']\n",
    "        missingOrUnknownData = missingOrUnknownData.strip('[')\n",
    "        missingOrUnknownData = missingOrUnknownData.strip(']')\n",
    "        missingOrUnknownData = missingOrUnknownData.split(sep = ',')\n",
    "        missingOrUnknownData = [int(value) if (value!='X' and value!='XX' and value!='') else value for value in missingOrUnknownData]\n",
    "    \n",
    "    if missingOrUnknownData != ['']:\n",
    "        df = df.replace({feat_info.iloc[LoopOnData]['attribute']:missingOrUnknownData},np.nan )\n",
    "    \n",
    "    for col in df.columns:\n",
    "        df_clean = df.replace({col: ['XX', 'X']}, np.nan)\n",
    "    # remove selected columns and rows, ...\n",
    "    # drop columns with more than 20% missing values\n",
    "    missingValueForColumns = (df_clean.isnull().sum()/len(df_clean))*100\n",
    "    missingValueForColumns_20 = missingValueForColumns[missingValueForColumns>20]\n",
    "    missingValueForColumns_20 = missingValueForColumns_20.index.tolist()\n",
    "    df_clean = df_clean.drop(missingValueForColumns_20, axis=1)\n",
    "    #ColumnWithMoreThan20Miss = [ 'GEBURTSJAHR', 'TITEL_KZ', 'ALTER_HH', 'KK_KUNDENTYP', 'KBA05_BAUMAX'] #'AGER_TYP',\n",
    "    \n",
    "    # drop rows with more than 3 missing values\n",
    "    df_clean = df_clean[df_clean.isnull().sum(axis=1) <= 3]\n",
    "    # select, re-encode, and engineer column values.\n",
    "\n",
    "     # re-encode binary feature\n",
    "    MappedValues = {'W': 0, 'O': 1}\n",
    "    df_clean = df_clean.replace({'OST_WEST_KZ':MappedValues})\n",
    "    \n",
    "    # drop multi-leve features\n",
    "    CategoricalFeatures = feat_info[feat_info[\"type\"]==\"categorical\"][\"attribute\"]\n",
    "    multi_level=[]\n",
    "    for feature in CategoricalFeatures:\n",
    "        if feature in missingValueForColumns_20:\n",
    "            continue\n",
    "        else:\n",
    "            if (len(df_clean[feature].unique())>2):\n",
    "                multi_level.append(feature)\n",
    "            \n",
    "    for f in multi_level:\n",
    "        df_clean=df_clean.drop(f, axis=1)\n",
    "    \n",
    "    # engineer mixed features\n",
    "    df_clean['DECADE'] = df_clean['PRAEGENDE_JUGENDJAHRE']\n",
    "    df_clean['MOVEMENT'] = df_clean['PRAEGENDE_JUGENDJAHRE']\n",
    "    \n",
    "    DecadeMapping = {1:1, 2:1, 3:2, 4:2, 5:3, 6:3, 7:3, 8:4, 9:4, 10:5, 11:5, 12:5, 13:5, 14:6, 15:6}\n",
    "    MovmentMapping = {1:1, 2:0, 3:1, 4:0, 5:1, 6:0, 7:0, 8:1, 9:0, 10:1, 11:0, 12:1, 13:0, 14:1, 15:0}\n",
    "    \n",
    "    df_clean['DECADE'].replace(DecadeMapping, inplace=True)\n",
    "    df_clean['MOVEMENT'].replace(MovmentMapping, inplace=True)\n",
    "    \n",
    "    if 'CAMEO_INTL_2015' in df_clean.columns:\n",
    "        df_clean['WEALTH'] = df_clean['CAMEO_INTL_2015']\n",
    "        df_clean['LIFE_STAGE'] = df_clean['CAMEO_INTL_2015']\n",
    "        WealthMapping = {'11':1, '12':1, '13':1, '14':1, '15':1, '21':2, '22':2, '23':2, '24':2, '25':2,\n",
    "                   '31':3, '32':3, '33':3, '34':3, '35':3, '41':4, '42':4, '43':4, '44':4, '45':4,\n",
    "                   '51':5, '52':5, '53':5, '54':5, '55':5}\n",
    "        LifeStageMapping = {'11':1, '12':2, '13':3, '14':4, '15':5, '21':1, '22':2, '23':3, '24':4, '25':5,\n",
    "                       '31':1, '32':2, '33':3, '34':4, '35':5, '41':1, '42':2, '43':3, '44':4, '45':5,\n",
    "                       '51':1, '52':2, '53':3, '54':4, '55':5}\n",
    "        df_clean['WEALTH'].replace(WealthMapping, inplace=True)\n",
    "        df_clean['LIFE_STAGE'].replace(LifeStageMapping, inplace=True)   \n",
    "        \n",
    "    \n",
    "    mixed_features = feat_info[feat_info[\"type\"]==\"mixed\"][\"attribute\"]\n",
    "    for feature in mixed_features:\n",
    "        if feature in df_clean.columns:\n",
    "            df_clean.drop(feature, axis=1, inplace=True)\n",
    "        else:    \n",
    "            break\n",
    "    \n",
    "    # Return the cleaned dataframe.\n",
    "    return df_clean\n",
    "    \n",
    "    "
   ]
  },
  {
   "cell_type": "markdown",
   "metadata": {},
   "source": [
    "## Step 2: Feature Transformation\n",
    "\n",
    "### Step 2.1: Apply Feature Scaling\n",
    "\n",
    "Before we apply dimensionality reduction techniques to the data, we need to perform feature scaling so that the principal component vectors are not influenced by the natural differences in scale for features. Starting from this part of the project, you'll want to keep an eye on the [API reference page for sklearn](http://scikit-learn.org/stable/modules/classes.html) to help you navigate to all of the classes and functions that you'll need. In this substep, you'll need to check the following:\n",
    "\n",
    "- sklearn requires that data not have missing values in order for its estimators to work properly. So, before applying the scaler to your data, make sure that you've cleaned the DataFrame of the remaining missing values. This can be as simple as just removing all data points with missing data, or applying an [Imputer](https://scikit-learn.org/0.16/modules/generated/sklearn.preprocessing.Imputer.html) to replace all missing values. You might also try a more complicated procedure where you temporarily remove missing values in order to compute the scaling parameters before re-introducing those missing values and applying imputation. Think about how much missing data you have and what possible effects each approach might have on your analysis, and justify your decision in the discussion section below.\n",
    "- For the actual scaling function, a [StandardScaler](http://scikit-learn.org/stable/modules/generated/sklearn.preprocessing.StandardScaler.html) instance is suggested, scaling each feature to mean 0 and standard deviation 1.\n",
    "- For these classes, you can make use of the `.fit_transform()` method to both fit a procedure to the data as well as apply the transformation to the data at the same time. Don't forget to keep the fit sklearn objects handy, since you'll be applying them to the customer demographics data towards the end of the project."
   ]
  },
  {
   "cell_type": "code",
   "execution_count": 18,
   "metadata": {},
   "outputs": [],
   "source": [
    "# If you've not yet cleaned the dataset of all NaN values, then investigate and\n",
    "# do that now.\n",
    "from sklearn.preprocessing import StandardScaler, Imputer\n",
    "MissigDataFiller = Imputer(strategy='most_frequent')\n",
    "ImputedData = pd.DataFrame(MissigDataFiller.fit_transform(azdias_clean))\n",
    "ImputedData.columns = azdias_clean.columns\n",
    "ImputedData.index = azdias_clean.index"
   ]
  },
  {
   "cell_type": "code",
   "execution_count": 19,
   "metadata": {},
   "outputs": [],
   "source": [
    "# Apply feature scaling to the general population demographics data.\n",
    "from sklearn.preprocessing import RobustScaler\n",
    "scaler = RobustScaler() \n",
    "CleanScaledData = scaler.fit_transform(ImputedData)\n"
   ]
  },
  {
   "cell_type": "code",
   "execution_count": 20,
   "metadata": {},
   "outputs": [
    {
     "data": {
      "text/plain": [
       "(798067, 63)"
      ]
     },
     "execution_count": 20,
     "metadata": {},
     "output_type": "execute_result"
    }
   ],
   "source": [
    "CleanScaledData.shape"
   ]
  },
  {
   "cell_type": "markdown",
   "metadata": {},
   "source": [
    "### Discussion 2.1: Apply Feature Scaling\n",
    "\n",
    "We now replaced all missing values with the most frequent value in that column using the Imputer method.\n",
    "All features are scaled using the RobustScaler lib"
   ]
  },
  {
   "cell_type": "markdown",
   "metadata": {},
   "source": [
    "### Step 2.2: Perform Dimensionality Reduction\n",
    "\n",
    "On your scaled data, you are now ready to apply dimensionality reduction techniques.\n",
    "\n",
    "- Use sklearn's [PCA](http://scikit-learn.org/stable/modules/generated/sklearn.decomposition.PCA.html) class to apply principal component analysis on the data, thus finding the vectors of maximal variance in the data. To start, you should not set any parameters (so all components are computed) or set a number of components that is at least half the number of features (so there's enough features to see the general trend in variability).\n",
    "- Check out the ratio of variance explained by each principal component as well as the cumulative variance explained. Try plotting the cumulative or sequential values using matplotlib's [`plot()`](https://matplotlib.org/api/_as_gen/matplotlib.pyplot.plot.html) function. Based on what you find, select a value for the number of transformed features you'll retain for the clustering part of the project.\n",
    "- Once you've made a choice for the number of components to keep, make sure you re-fit a PCA instance to perform the decided-on transformation."
   ]
  },
  {
   "cell_type": "code",
   "execution_count": 21,
   "metadata": {},
   "outputs": [
    {
     "data": {
      "text/html": [
       "<div>\n",
       "<style scoped>\n",
       "    .dataframe tbody tr th:only-of-type {\n",
       "        vertical-align: middle;\n",
       "    }\n",
       "\n",
       "    .dataframe tbody tr th {\n",
       "        vertical-align: top;\n",
       "    }\n",
       "\n",
       "    .dataframe thead th {\n",
       "        text-align: right;\n",
       "    }\n",
       "</style>\n",
       "<table border=\"1\" class=\"dataframe\">\n",
       "  <thead>\n",
       "    <tr style=\"text-align: right;\">\n",
       "      <th></th>\n",
       "      <th>ALTERSKATEGORIE_GROB</th>\n",
       "      <th>ANREDE_KZ</th>\n",
       "      <th>FINANZ_MINIMALIST</th>\n",
       "      <th>FINANZ_SPARER</th>\n",
       "      <th>FINANZ_VORSORGER</th>\n",
       "      <th>FINANZ_ANLEGER</th>\n",
       "      <th>FINANZ_UNAUFFAELLIGER</th>\n",
       "      <th>FINANZ_HAUSBAUER</th>\n",
       "      <th>GREEN_AVANTGARDE</th>\n",
       "      <th>HEALTH_TYP</th>\n",
       "      <th>...</th>\n",
       "      <th>PLZ8_ANTG4</th>\n",
       "      <th>PLZ8_HHZ</th>\n",
       "      <th>PLZ8_GBZ</th>\n",
       "      <th>ARBEIT</th>\n",
       "      <th>ORTSGR_KLS9</th>\n",
       "      <th>RELAT_AB</th>\n",
       "      <th>DECADE</th>\n",
       "      <th>MOVEMENT</th>\n",
       "      <th>WEALTH</th>\n",
       "      <th>LIFE_STAGE</th>\n",
       "    </tr>\n",
       "  </thead>\n",
       "  <tbody>\n",
       "    <tr>\n",
       "      <th>0</th>\n",
       "      <td>-1.0</td>\n",
       "      <td>0.0</td>\n",
       "      <td>-1.0</td>\n",
       "      <td>0.666667</td>\n",
       "      <td>-0.666667</td>\n",
       "      <td>0.666667</td>\n",
       "      <td>0.666667</td>\n",
       "      <td>1.0</td>\n",
       "      <td>0.0</td>\n",
       "      <td>1.0</td>\n",
       "      <td>...</td>\n",
       "      <td>0.0</td>\n",
       "      <td>2.0</td>\n",
       "      <td>1.0</td>\n",
       "      <td>0.0</td>\n",
       "      <td>0.000000</td>\n",
       "      <td>0.5</td>\n",
       "      <td>0.333333</td>\n",
       "      <td>0.0</td>\n",
       "      <td>0.333333</td>\n",
       "      <td>-0.666667</td>\n",
       "    </tr>\n",
       "    <tr>\n",
       "      <th>1</th>\n",
       "      <td>0.0</td>\n",
       "      <td>0.0</td>\n",
       "      <td>-1.0</td>\n",
       "      <td>0.333333</td>\n",
       "      <td>-1.000000</td>\n",
       "      <td>-0.333333</td>\n",
       "      <td>0.333333</td>\n",
       "      <td>1.0</td>\n",
       "      <td>1.0</td>\n",
       "      <td>1.0</td>\n",
       "      <td>...</td>\n",
       "      <td>-1.0</td>\n",
       "      <td>1.0</td>\n",
       "      <td>1.0</td>\n",
       "      <td>0.0</td>\n",
       "      <td>0.000000</td>\n",
       "      <td>-0.5</td>\n",
       "      <td>0.333333</td>\n",
       "      <td>-1.0</td>\n",
       "      <td>-0.666667</td>\n",
       "      <td>0.333333</td>\n",
       "    </tr>\n",
       "    <tr>\n",
       "      <th>2</th>\n",
       "      <td>0.5</td>\n",
       "      <td>0.0</td>\n",
       "      <td>0.5</td>\n",
       "      <td>-0.333333</td>\n",
       "      <td>0.333333</td>\n",
       "      <td>-0.333333</td>\n",
       "      <td>-0.333333</td>\n",
       "      <td>-0.5</td>\n",
       "      <td>0.0</td>\n",
       "      <td>0.0</td>\n",
       "      <td>...</td>\n",
       "      <td>-1.0</td>\n",
       "      <td>0.0</td>\n",
       "      <td>1.0</td>\n",
       "      <td>-1.0</td>\n",
       "      <td>-0.666667</td>\n",
       "      <td>0.0</td>\n",
       "      <td>-0.333333</td>\n",
       "      <td>0.0</td>\n",
       "      <td>-1.000000</td>\n",
       "      <td>-0.333333</td>\n",
       "    </tr>\n",
       "    <tr>\n",
       "      <th>3</th>\n",
       "      <td>0.0</td>\n",
       "      <td>-1.0</td>\n",
       "      <td>0.5</td>\n",
       "      <td>0.000000</td>\n",
       "      <td>0.000000</td>\n",
       "      <td>-0.666667</td>\n",
       "      <td>0.333333</td>\n",
       "      <td>-0.5</td>\n",
       "      <td>0.0</td>\n",
       "      <td>1.0</td>\n",
       "      <td>...</td>\n",
       "      <td>0.0</td>\n",
       "      <td>0.0</td>\n",
       "      <td>0.0</td>\n",
       "      <td>1.0</td>\n",
       "      <td>0.333333</td>\n",
       "      <td>1.0</td>\n",
       "      <td>-0.333333</td>\n",
       "      <td>0.0</td>\n",
       "      <td>0.000000</td>\n",
       "      <td>0.000000</td>\n",
       "    </tr>\n",
       "    <tr>\n",
       "      <th>4</th>\n",
       "      <td>-1.0</td>\n",
       "      <td>0.0</td>\n",
       "      <td>0.0</td>\n",
       "      <td>-0.666667</td>\n",
       "      <td>0.333333</td>\n",
       "      <td>-0.333333</td>\n",
       "      <td>0.000000</td>\n",
       "      <td>1.0</td>\n",
       "      <td>0.0</td>\n",
       "      <td>1.0</td>\n",
       "      <td>...</td>\n",
       "      <td>0.0</td>\n",
       "      <td>2.0</td>\n",
       "      <td>2.0</td>\n",
       "      <td>-1.0</td>\n",
       "      <td>-0.666667</td>\n",
       "      <td>0.0</td>\n",
       "      <td>-1.000000</td>\n",
       "      <td>0.0</td>\n",
       "      <td>0.333333</td>\n",
       "      <td>0.333333</td>\n",
       "    </tr>\n",
       "    <tr>\n",
       "      <th>5</th>\n",
       "      <td>-0.5</td>\n",
       "      <td>0.0</td>\n",
       "      <td>-1.0</td>\n",
       "      <td>0.666667</td>\n",
       "      <td>-1.000000</td>\n",
       "      <td>0.666667</td>\n",
       "      <td>0.666667</td>\n",
       "      <td>0.0</td>\n",
       "      <td>0.0</td>\n",
       "      <td>0.0</td>\n",
       "      <td>...</td>\n",
       "      <td>-1.0</td>\n",
       "      <td>2.0</td>\n",
       "      <td>2.0</td>\n",
       "      <td>1.0</td>\n",
       "      <td>0.333333</td>\n",
       "      <td>0.0</td>\n",
       "      <td>0.000000</td>\n",
       "      <td>0.0</td>\n",
       "      <td>-0.666667</td>\n",
       "      <td>-0.333333</td>\n",
       "    </tr>\n",
       "    <tr>\n",
       "      <th>6</th>\n",
       "      <td>-1.0</td>\n",
       "      <td>-1.0</td>\n",
       "      <td>0.0</td>\n",
       "      <td>0.000000</td>\n",
       "      <td>0.000000</td>\n",
       "      <td>-0.666667</td>\n",
       "      <td>0.333333</td>\n",
       "      <td>-0.5</td>\n",
       "      <td>0.0</td>\n",
       "      <td>-1.0</td>\n",
       "      <td>...</td>\n",
       "      <td>-1.0</td>\n",
       "      <td>1.0</td>\n",
       "      <td>1.0</td>\n",
       "      <td>-1.0</td>\n",
       "      <td>0.000000</td>\n",
       "      <td>-0.5</td>\n",
       "      <td>-0.333333</td>\n",
       "      <td>0.0</td>\n",
       "      <td>-1.000000</td>\n",
       "      <td>0.333333</td>\n",
       "    </tr>\n",
       "    <tr>\n",
       "      <th>7</th>\n",
       "      <td>0.0</td>\n",
       "      <td>-1.0</td>\n",
       "      <td>0.5</td>\n",
       "      <td>0.333333</td>\n",
       "      <td>-0.666667</td>\n",
       "      <td>0.333333</td>\n",
       "      <td>0.000000</td>\n",
       "      <td>-0.5</td>\n",
       "      <td>1.0</td>\n",
       "      <td>1.0</td>\n",
       "      <td>...</td>\n",
       "      <td>0.0</td>\n",
       "      <td>0.0</td>\n",
       "      <td>0.0</td>\n",
       "      <td>-1.0</td>\n",
       "      <td>-0.333333</td>\n",
       "      <td>0.0</td>\n",
       "      <td>0.000000</td>\n",
       "      <td>-1.0</td>\n",
       "      <td>-1.000000</td>\n",
       "      <td>0.000000</td>\n",
       "    </tr>\n",
       "    <tr>\n",
       "      <th>8</th>\n",
       "      <td>0.0</td>\n",
       "      <td>0.0</td>\n",
       "      <td>-0.5</td>\n",
       "      <td>0.333333</td>\n",
       "      <td>-0.666667</td>\n",
       "      <td>0.000000</td>\n",
       "      <td>1.000000</td>\n",
       "      <td>0.5</td>\n",
       "      <td>1.0</td>\n",
       "      <td>0.0</td>\n",
       "      <td>...</td>\n",
       "      <td>0.0</td>\n",
       "      <td>0.0</td>\n",
       "      <td>0.0</td>\n",
       "      <td>-1.0</td>\n",
       "      <td>-0.666667</td>\n",
       "      <td>-1.0</td>\n",
       "      <td>0.333333</td>\n",
       "      <td>-1.0</td>\n",
       "      <td>-1.000000</td>\n",
       "      <td>0.666667</td>\n",
       "    </tr>\n",
       "    <tr>\n",
       "      <th>9</th>\n",
       "      <td>0.0</td>\n",
       "      <td>0.0</td>\n",
       "      <td>-0.5</td>\n",
       "      <td>-0.333333</td>\n",
       "      <td>0.333333</td>\n",
       "      <td>0.000000</td>\n",
       "      <td>-0.333333</td>\n",
       "      <td>1.0</td>\n",
       "      <td>0.0</td>\n",
       "      <td>0.0</td>\n",
       "      <td>...</td>\n",
       "      <td>-1.0</td>\n",
       "      <td>0.0</td>\n",
       "      <td>0.0</td>\n",
       "      <td>1.0</td>\n",
       "      <td>0.333333</td>\n",
       "      <td>1.0</td>\n",
       "      <td>-1.000000</td>\n",
       "      <td>0.0</td>\n",
       "      <td>0.333333</td>\n",
       "      <td>-0.666667</td>\n",
       "    </tr>\n",
       "  </tbody>\n",
       "</table>\n",
       "<p>10 rows × 63 columns</p>\n",
       "</div>"
      ],
      "text/plain": [
       "   ALTERSKATEGORIE_GROB  ANREDE_KZ  FINANZ_MINIMALIST  FINANZ_SPARER  \\\n",
       "0                  -1.0        0.0               -1.0       0.666667   \n",
       "1                   0.0        0.0               -1.0       0.333333   \n",
       "2                   0.5        0.0                0.5      -0.333333   \n",
       "3                   0.0       -1.0                0.5       0.000000   \n",
       "4                  -1.0        0.0                0.0      -0.666667   \n",
       "5                  -0.5        0.0               -1.0       0.666667   \n",
       "6                  -1.0       -1.0                0.0       0.000000   \n",
       "7                   0.0       -1.0                0.5       0.333333   \n",
       "8                   0.0        0.0               -0.5       0.333333   \n",
       "9                   0.0        0.0               -0.5      -0.333333   \n",
       "\n",
       "   FINANZ_VORSORGER  FINANZ_ANLEGER  FINANZ_UNAUFFAELLIGER  FINANZ_HAUSBAUER  \\\n",
       "0         -0.666667        0.666667               0.666667               1.0   \n",
       "1         -1.000000       -0.333333               0.333333               1.0   \n",
       "2          0.333333       -0.333333              -0.333333              -0.5   \n",
       "3          0.000000       -0.666667               0.333333              -0.5   \n",
       "4          0.333333       -0.333333               0.000000               1.0   \n",
       "5         -1.000000        0.666667               0.666667               0.0   \n",
       "6          0.000000       -0.666667               0.333333              -0.5   \n",
       "7         -0.666667        0.333333               0.000000              -0.5   \n",
       "8         -0.666667        0.000000               1.000000               0.5   \n",
       "9          0.333333        0.000000              -0.333333               1.0   \n",
       "\n",
       "   GREEN_AVANTGARDE  HEALTH_TYP     ...      PLZ8_ANTG4  PLZ8_HHZ  PLZ8_GBZ  \\\n",
       "0               0.0         1.0     ...             0.0       2.0       1.0   \n",
       "1               1.0         1.0     ...            -1.0       1.0       1.0   \n",
       "2               0.0         0.0     ...            -1.0       0.0       1.0   \n",
       "3               0.0         1.0     ...             0.0       0.0       0.0   \n",
       "4               0.0         1.0     ...             0.0       2.0       2.0   \n",
       "5               0.0         0.0     ...            -1.0       2.0       2.0   \n",
       "6               0.0        -1.0     ...            -1.0       1.0       1.0   \n",
       "7               1.0         1.0     ...             0.0       0.0       0.0   \n",
       "8               1.0         0.0     ...             0.0       0.0       0.0   \n",
       "9               0.0         0.0     ...            -1.0       0.0       0.0   \n",
       "\n",
       "   ARBEIT  ORTSGR_KLS9  RELAT_AB    DECADE  MOVEMENT    WEALTH  LIFE_STAGE  \n",
       "0     0.0     0.000000       0.5  0.333333       0.0  0.333333   -0.666667  \n",
       "1     0.0     0.000000      -0.5  0.333333      -1.0 -0.666667    0.333333  \n",
       "2    -1.0    -0.666667       0.0 -0.333333       0.0 -1.000000   -0.333333  \n",
       "3     1.0     0.333333       1.0 -0.333333       0.0  0.000000    0.000000  \n",
       "4    -1.0    -0.666667       0.0 -1.000000       0.0  0.333333    0.333333  \n",
       "5     1.0     0.333333       0.0  0.000000       0.0 -0.666667   -0.333333  \n",
       "6    -1.0     0.000000      -0.5 -0.333333       0.0 -1.000000    0.333333  \n",
       "7    -1.0    -0.333333       0.0  0.000000      -1.0 -1.000000    0.000000  \n",
       "8    -1.0    -0.666667      -1.0  0.333333      -1.0 -1.000000    0.666667  \n",
       "9     1.0     0.333333       1.0 -1.000000       0.0  0.333333   -0.666667  \n",
       "\n",
       "[10 rows x 63 columns]"
      ]
     },
     "execution_count": 21,
     "metadata": {},
     "output_type": "execute_result"
    }
   ],
   "source": [
    "# Apply PCA to the data.\n",
    "from sklearn.decomposition import PCA\n",
    "from sklearn.cluster import KMeans\n",
    "pcaObject = PCA()\n",
    "pcaObject.fit(CleanScaledData)\n",
    "CleanScaledData = pd.DataFrame(CleanScaledData, columns=list(ImputedData.columns))\n",
    "\n",
    "CleanScaledData.head(10)\n"
   ]
  },
  {
   "cell_type": "code",
   "execution_count": 22,
   "metadata": {},
   "outputs": [
    {
     "data": {
      "image/png": "[encoded data removed]",
      "text/plain": [
       "<matplotlib.figure.Figure at 0x7f46990c4ef0>"
      ]
     },
     "metadata": {
      "needs_background": "light"
     },
     "output_type": "display_data"
    }
   ],
   "source": [
    "# Investigate the variance accounted for by each principal component.\n",
    "plt.bar(range(len(pcaObject.explained_variance_ratio_)), pcaObject.explained_variance_ratio_)\n",
    "plt.title(\"Variance per each component\")\n",
    "plt.xlabel(\"Principal component\")\n",
    "plt.ylabel(\"Ratio of variance explained\")\n",
    "plt.show()\n"
   ]
  },
  {
   "cell_type": "code",
   "execution_count": 23,
   "metadata": {},
   "outputs": [],
   "source": [
    "# Re-apply PCA to the data while selecting for number of components to retain.\n",
    "reducedComponentPCA = PCA(n_components=30)\n",
    "ReducedData = reducedComponentPCA.fit_transform(CleanScaledData)\n"
   ]
  },
  {
   "cell_type": "markdown",
   "metadata": {},
   "source": [
    "### Discussion 2.2: Perform Dimensionality Reduction\n",
    "\n",
    "We chooses to retain 30 principal components, as it expalains more than 88% variances and at the same time reducing the number of features by more than 50%."
   ]
  },
  {
   "cell_type": "markdown",
   "metadata": {},
   "source": [
    "### Step 2.3: Interpret Principal Components\n",
    "\n",
    "Now that we have our transformed principal components, it's a nice idea to check out the weight of each variable on the first few components to see if they can be interpreted in some fashion.\n",
    "\n",
    "As a reminder, each principal component is a unit vector that points in the direction of highest variance (after accounting for the variance captured by earlier principal components). The further a weight is from zero, the more the principal component is in the direction of the corresponding feature. If two features have large weights of the same sign (both positive or both negative), then increases in one tend expect to be associated with increases in the other. To contrast, features with different signs can be expected to show a negative correlation: increases in one variable should result in a decrease in the other.\n",
    "\n",
    "- To investigate the features, you should map each weight to their corresponding feature name, then sort the features according to weight. The most interesting features for each principal component, then, will be those at the beginning and end of the sorted list. Use the data dictionary document to help you understand these most prominent features, their relationships, and what a positive or negative value on the principal component might indicate.\n",
    "- You should investigate and interpret feature associations from the first three principal components in this substep. To help facilitate this, you should write a function that you can call at any time to print the sorted list of feature weights, for the *i*-th principal component. This might come in handy in the next step of the project, when you interpret the tendencies of the discovered clusters."
   ]
  },
  {
   "cell_type": "code",
   "execution_count": 24,
   "metadata": {},
   "outputs": [
    {
     "name": "stdout",
     "output_type": "stream",
     "text": [
      "ANZ_HAUSHALTE_AKTIV      0.676466\n",
      "PLZ8_ANTG1               0.205605\n",
      "PLZ8_GBZ                 0.172225\n",
      "KBA13_ANZAHL_PKW         0.115267\n",
      "KONSUMNAEHE              0.089668\n",
      "INNENSTADT               0.089035\n",
      "KBA05_ANTG4              0.077978\n",
      "SEMIO_ERL                0.067602\n",
      "ALTERSKATEGORIE_GROB     0.063096\n",
      "FINANZ_MINIMALIST        0.058599\n",
      "KBA05_ANTG1              0.052549\n",
      "ANZ_HH_TITEL             0.050249\n",
      "FINANZ_VORSORGER         0.047076\n",
      "BALLRAUM                 0.045541\n",
      "LIFE_STAGE               0.042338\n",
      "SEMIO_LUST               0.040957\n",
      "PLZ8_HHZ                 0.035247\n",
      "MOBI_REGIO               0.033783\n",
      "SEMIO_KRIT               0.030507\n",
      "KBA05_GBZ                0.029164\n",
      "ANREDE_KZ                0.021761\n",
      "W_KEIT_KIND_HH           0.017781\n",
      "RETOURTYP_BK_S           0.009674\n",
      "SEMIO_DOM                0.007364\n",
      "SEMIO_KAEM               0.007007\n",
      "GREEN_AVANTGARDE         0.002949\n",
      "ONLINE_AFFINITAET        0.000563\n",
      "SOHO_KZ                 -0.000006\n",
      "ANZ_TITEL               -0.000194\n",
      "GEBAEUDETYP_RASTER      -0.000526\n",
      "                           ...   \n",
      "FINANZ_ANLEGER          -0.022644\n",
      "OST_WEST_KZ             -0.022857\n",
      "FINANZ_HAUSBAUER        -0.028751\n",
      "ANZ_PERSONEN            -0.030764\n",
      "SEMIO_SOZ               -0.032700\n",
      "REGIOTYP                -0.033688\n",
      "FINANZ_UNAUFFAELLIGER   -0.038099\n",
      "HH_EINKOMMEN_SCORE      -0.038975\n",
      "MIN_GEBAEUDEJAHR        -0.039180\n",
      "DECADE                  -0.040619\n",
      "KKK                     -0.047084\n",
      "SEMIO_FAM               -0.048721\n",
      "FINANZ_SPARER           -0.053435\n",
      "WEALTH                  -0.057564\n",
      "SEMIO_TRADV             -0.059377\n",
      "SEMIO_MAT               -0.064468\n",
      "EWDICHTE                -0.069823\n",
      "SEMIO_PFLICHT           -0.072334\n",
      "SEMIO_RAT               -0.075355\n",
      "SEMIO_KULT              -0.078845\n",
      "KBA05_ANTG2             -0.082295\n",
      "PLZ8_ANTG4              -0.098935\n",
      "RELAT_AB                -0.119986\n",
      "ORTSGR_KLS9             -0.125917\n",
      "SEMIO_REL               -0.130737\n",
      "ARBEIT                  -0.195801\n",
      "PLZ8_ANTG2              -0.216726\n",
      "KBA05_ANTG3             -0.219635\n",
      "PLZ8_ANTG3              -0.233484\n",
      "WOHNDAUER_2008          -0.317475\n",
      "Name: 3, Length: 63, dtype: float64\n"
     ]
    }
   ],
   "source": [
    "# Map weights for the first principal component to corresponding feature names\n",
    "# and then print the linked values, sorted by weight.\n",
    "# HINT: Try defining a function here or in a new cell that you can reuse in the\n",
    "# other cells.\n",
    "def GetPCAweights(pca, j):\n",
    "    PCAcomponents = pd.DataFrame(pcaObject.components_ , columns = list(ImputedData.columns))\n",
    "    weights = PCAcomponents.iloc[i].sort_values(ascending=False)\n",
    "    #print(PCAcomponents.iloc[i])\n",
    "    return weights\n",
    "\n",
    "FirstPCAcomponent_w = GetPCAweights(reducedComponentPCA, 0)\n",
    "print (FirstPCAcomponent_w)\n"
   ]
  },
  {
   "cell_type": "code",
   "execution_count": 25,
   "metadata": {},
   "outputs": [
    {
     "name": "stdout",
     "output_type": "stream",
     "text": [
      "ANZ_HAUSHALTE_AKTIV      0.676466\n",
      "PLZ8_ANTG1               0.205605\n",
      "PLZ8_GBZ                 0.172225\n",
      "KBA13_ANZAHL_PKW         0.115267\n",
      "KONSUMNAEHE              0.089668\n",
      "INNENSTADT               0.089035\n",
      "KBA05_ANTG4              0.077978\n",
      "SEMIO_ERL                0.067602\n",
      "ALTERSKATEGORIE_GROB     0.063096\n",
      "FINANZ_MINIMALIST        0.058599\n",
      "KBA05_ANTG1              0.052549\n",
      "ANZ_HH_TITEL             0.050249\n",
      "FINANZ_VORSORGER         0.047076\n",
      "BALLRAUM                 0.045541\n",
      "LIFE_STAGE               0.042338\n",
      "SEMIO_LUST               0.040957\n",
      "PLZ8_HHZ                 0.035247\n",
      "MOBI_REGIO               0.033783\n",
      "SEMIO_KRIT               0.030507\n",
      "KBA05_GBZ                0.029164\n",
      "ANREDE_KZ                0.021761\n",
      "W_KEIT_KIND_HH           0.017781\n",
      "RETOURTYP_BK_S           0.009674\n",
      "SEMIO_DOM                0.007364\n",
      "SEMIO_KAEM               0.007007\n",
      "GREEN_AVANTGARDE         0.002949\n",
      "ONLINE_AFFINITAET        0.000563\n",
      "SOHO_KZ                 -0.000006\n",
      "ANZ_TITEL               -0.000194\n",
      "GEBAEUDETYP_RASTER      -0.000526\n",
      "                           ...   \n",
      "FINANZ_ANLEGER          -0.022644\n",
      "OST_WEST_KZ             -0.022857\n",
      "FINANZ_HAUSBAUER        -0.028751\n",
      "ANZ_PERSONEN            -0.030764\n",
      "SEMIO_SOZ               -0.032700\n",
      "REGIOTYP                -0.033688\n",
      "FINANZ_UNAUFFAELLIGER   -0.038099\n",
      "HH_EINKOMMEN_SCORE      -0.038975\n",
      "MIN_GEBAEUDEJAHR        -0.039180\n",
      "DECADE                  -0.040619\n",
      "KKK                     -0.047084\n",
      "SEMIO_FAM               -0.048721\n",
      "FINANZ_SPARER           -0.053435\n",
      "WEALTH                  -0.057564\n",
      "SEMIO_TRADV             -0.059377\n",
      "SEMIO_MAT               -0.064468\n",
      "EWDICHTE                -0.069823\n",
      "SEMIO_PFLICHT           -0.072334\n",
      "SEMIO_RAT               -0.075355\n",
      "SEMIO_KULT              -0.078845\n",
      "KBA05_ANTG2             -0.082295\n",
      "PLZ8_ANTG4              -0.098935\n",
      "RELAT_AB                -0.119986\n",
      "ORTSGR_KLS9             -0.125917\n",
      "SEMIO_REL               -0.130737\n",
      "ARBEIT                  -0.195801\n",
      "PLZ8_ANTG2              -0.216726\n",
      "KBA05_ANTG3             -0.219635\n",
      "PLZ8_ANTG3              -0.233484\n",
      "WOHNDAUER_2008          -0.317475\n",
      "Name: 3, Length: 63, dtype: float64\n"
     ]
    }
   ],
   "source": [
    "# Map weights for the second principal component to corresponding feature names\n",
    "# and then print the linked values, sorted by weight.\n",
    "SecondPCAcomponent_w = GetPCAweights(reducedComponentPCA, 1)\n",
    "print (SecondPCAcomponent_w)\n"
   ]
  },
  {
   "cell_type": "code",
   "execution_count": 26,
   "metadata": {},
   "outputs": [
    {
     "name": "stdout",
     "output_type": "stream",
     "text": [
      "ANZ_HAUSHALTE_AKTIV      0.676466\n",
      "PLZ8_ANTG1               0.205605\n",
      "PLZ8_GBZ                 0.172225\n",
      "KBA13_ANZAHL_PKW         0.115267\n",
      "KONSUMNAEHE              0.089668\n",
      "INNENSTADT               0.089035\n",
      "KBA05_ANTG4              0.077978\n",
      "SEMIO_ERL                0.067602\n",
      "ALTERSKATEGORIE_GROB     0.063096\n",
      "FINANZ_MINIMALIST        0.058599\n",
      "KBA05_ANTG1              0.052549\n",
      "ANZ_HH_TITEL             0.050249\n",
      "FINANZ_VORSORGER         0.047076\n",
      "BALLRAUM                 0.045541\n",
      "LIFE_STAGE               0.042338\n",
      "SEMIO_LUST               0.040957\n",
      "PLZ8_HHZ                 0.035247\n",
      "MOBI_REGIO               0.033783\n",
      "SEMIO_KRIT               0.030507\n",
      "KBA05_GBZ                0.029164\n",
      "ANREDE_KZ                0.021761\n",
      "W_KEIT_KIND_HH           0.017781\n",
      "RETOURTYP_BK_S           0.009674\n",
      "SEMIO_DOM                0.007364\n",
      "SEMIO_KAEM               0.007007\n",
      "GREEN_AVANTGARDE         0.002949\n",
      "ONLINE_AFFINITAET        0.000563\n",
      "SOHO_KZ                 -0.000006\n",
      "ANZ_TITEL               -0.000194\n",
      "GEBAEUDETYP_RASTER      -0.000526\n",
      "                           ...   \n",
      "FINANZ_ANLEGER          -0.022644\n",
      "OST_WEST_KZ             -0.022857\n",
      "FINANZ_HAUSBAUER        -0.028751\n",
      "ANZ_PERSONEN            -0.030764\n",
      "SEMIO_SOZ               -0.032700\n",
      "REGIOTYP                -0.033688\n",
      "FINANZ_UNAUFFAELLIGER   -0.038099\n",
      "HH_EINKOMMEN_SCORE      -0.038975\n",
      "MIN_GEBAEUDEJAHR        -0.039180\n",
      "DECADE                  -0.040619\n",
      "KKK                     -0.047084\n",
      "SEMIO_FAM               -0.048721\n",
      "FINANZ_SPARER           -0.053435\n",
      "WEALTH                  -0.057564\n",
      "SEMIO_TRADV             -0.059377\n",
      "SEMIO_MAT               -0.064468\n",
      "EWDICHTE                -0.069823\n",
      "SEMIO_PFLICHT           -0.072334\n",
      "SEMIO_RAT               -0.075355\n",
      "SEMIO_KULT              -0.078845\n",
      "KBA05_ANTG2             -0.082295\n",
      "PLZ8_ANTG4              -0.098935\n",
      "RELAT_AB                -0.119986\n",
      "ORTSGR_KLS9             -0.125917\n",
      "SEMIO_REL               -0.130737\n",
      "ARBEIT                  -0.195801\n",
      "PLZ8_ANTG2              -0.216726\n",
      "KBA05_ANTG3             -0.219635\n",
      "PLZ8_ANTG3              -0.233484\n",
      "WOHNDAUER_2008          -0.317475\n",
      "Name: 3, Length: 63, dtype: float64\n"
     ]
    }
   ],
   "source": [
    "# Map weights for the third principal component to corresponding feature names\n",
    "# and then print the linked values, sorted by weight.\n",
    "ThirdPCAcomponent_w = GetPCAweights(reducedComponentPCA, 2)\n",
    "print (ThirdPCAcomponent_w)\n"
   ]
  },
  {
   "cell_type": "markdown",
   "metadata": {},
   "source": [
    "### Discussion 2.3: Interpret Principal Components\n",
    "\n",
    "From the first 3 principal components :ANZ_HAUSHALTE_AKTIV is positively correlated with PLZ8_ANTG1 and pos correleated with PLZ8_GBZ and neg correlated with WOHNDAUER_2008  \n",
    "\n",
    "Which means that the number of households in the building is dependendent on the number of 1-2 family houses in the PLZ8 region and also dependent on the number of buildings within the the same region, they are directely proportional to each other.       \n",
    "\n",
    "Also the number of households in a building is inversely proportinal to the length of residence\n",
    "\n"
   ]
  },
  {
   "cell_type": "markdown",
   "metadata": {},
   "source": [
    "## Step 3: Clustering\n",
    "\n",
    "### Step 3.1: Apply Clustering to General Population\n",
    "\n",
    "You've assessed and cleaned the demographics data, then scaled and transformed them. Now, it's time to see how the data clusters in the principal components space. In this substep, you will apply k-means clustering to the dataset and use the average within-cluster distances from each point to their assigned cluster's centroid to decide on a number of clusters to keep.\n",
    "\n",
    "- Use sklearn's [KMeans](http://scikit-learn.org/stable/modules/generated/sklearn.cluster.KMeans.html#sklearn.cluster.KMeans) class to perform k-means clustering on the PCA-transformed data.\n",
    "- Then, compute the average difference from each point to its assigned cluster's center. **Hint**: The KMeans object's `.score()` method might be useful here, but note that in sklearn, scores tend to be defined so that larger is better. Try applying it to a small, toy dataset, or use an internet search to help your understanding.\n",
    "- Perform the above two steps for a number of different cluster counts. You can then see how the average distance decreases with an increasing number of clusters. However, each additional cluster provides a smaller net benefit. Use this fact to select a final number of clusters in which to group the data. **Warning**: because of the large size of the dataset, it can take a long time for the algorithm to resolve. The more clusters to fit, the longer the algorithm will take. You should test for cluster counts through at least 10 clusters to get the full picture, but you shouldn't need to test for a number of clusters above about 30.\n",
    "- Once you've selected a final number of clusters to use, re-fit a KMeans instance to perform the clustering operation. Make sure that you also obtain the cluster assignments for the general demographics data, since you'll be using them in the final Step 3.3."
   ]
  },
  {
   "cell_type": "code",
   "execution_count": 27,
   "metadata": {},
   "outputs": [],
   "source": [
    "# Over a number of different cluster counts...\n",
    "from sklearn.cluster import MiniBatchKMeans\n",
    "def GetKmeansScore(data, n):\n",
    "    kmeans = MiniBatchKMeans(n_clusters = n)\n",
    "    model = kmeans.fit(data)\n",
    "    score = np.abs(model.score(data))\n",
    "    return score\n",
    "\n",
    "    # run k-means clustering on the data and...\n",
    "scores = []\n",
    "Kvalues = list(range(1,20))\n",
    "for k in Kvalues:\n",
    "    scores.append(GetKmeansScore(ReducedData, k))\n",
    "    \n",
    "    \n",
    "    # compute the average within-cluster distances.\n",
    "\n",
    "    "
   ]
  },
  {
   "cell_type": "code",
   "execution_count": 28,
   "metadata": {},
   "outputs": [
    {
     "data": {
      "text/plain": [
       "Text(0,0.5,'scores')"
      ]
     },
     "execution_count": 28,
     "metadata": {},
     "output_type": "execute_result"
    },
    {
     "data": {
      "image/png": "[encoded data removed]",
      "text/plain": [
       "<matplotlib.figure.Figure at 0x7f46aebfe940>"
      ]
     },
     "metadata": {
      "needs_background": "light"
     },
     "output_type": "display_data"
    }
   ],
   "source": [
    "# Investigate the change in within-cluster distance across number of clusters.\n",
    "# HINT: Use matplotlib's plot function to visualize this relationship.\n",
    "plt.plot(Kvalues, scores, linestyle='-', marker='o')\n",
    "plt.xlabel('K')\n",
    "plt.ylabel('scores')\n"
   ]
  },
  {
   "cell_type": "code",
   "execution_count": 29,
   "metadata": {},
   "outputs": [],
   "source": [
    "# Re-fit the k-means model with the selected number of clusters and obtain\n",
    "# cluster predictions for the general population demographics data.\n",
    "kmeans = MiniBatchKMeans(n_clusters = 16)\n",
    "ReFittedModel = kmeans.fit(ReducedData)\n",
    "ReducedData_pred = ReFittedModel.predict(ReducedData)\n"
   ]
  },
  {
   "cell_type": "markdown",
   "metadata": {},
   "source": [
    "### Discussion 3.1: Apply Clustering to General Population\n",
    "\n",
    "From the earlier graph, We choose the elbow value of k = 16"
   ]
  },
  {
   "cell_type": "markdown",
   "metadata": {},
   "source": [
    "### Step 3.2: Apply All Steps to the Customer Data\n",
    "\n",
    "Now that you have clusters and cluster centers for the general population, it's time to see how the customer data maps on to those clusters. Take care to not confuse this for re-fitting all of the models to the customer data. Instead, you're going to use the fits from the general population to clean, transform, and cluster the customer data. In the last step of the project, you will interpret how the general population fits apply to the customer data.\n",
    "\n",
    "- Don't forget when loading in the customers data, that it is semicolon (`;`) delimited.\n",
    "- Apply the same feature wrangling, selection, and engineering steps to the customer demographics using the `clean_data()` function you created earlier. (You can assume that the customer demographics data has similar meaning behind missing data patterns as the general demographics data.)\n",
    "- Use the sklearn objects from the general demographics data, and apply their transformations to the customers data. That is, you should not be using a `.fit()` or `.fit_transform()` method to re-fit the old objects, nor should you be creating new sklearn objects! Carry the data through the feature scaling, PCA, and clustering steps, obtaining cluster assignments for all of the data in the customer demographics data."
   ]
  },
  {
   "cell_type": "code",
   "execution_count": 33,
   "metadata": {},
   "outputs": [
    {
     "data": {
      "text/plain": [
       "(191652, 85)"
      ]
     },
     "execution_count": 33,
     "metadata": {},
     "output_type": "execute_result"
    }
   ],
   "source": [
    "# Load in the customer demographics data.\n",
    "customers = pd.read_csv('Udacity_CUSTOMERS_Subset.csv', sep=';')\n",
    "customers.shape"
   ]
  },
  {
   "cell_type": "code",
   "execution_count": 32,
   "metadata": {},
   "outputs": [
    {
     "data": {
      "text/plain": [
       "(188439, 30)"
      ]
     },
     "execution_count": 32,
     "metadata": {},
     "output_type": "execute_result"
    }
   ],
   "source": [
    "# Apply preprocessing, feature transformation, and clustering from the general\n",
    "# demographics onto the customer data, obtaining cluster predictions for the\n",
    "# customer demographics data.\n",
    "\n",
    "CleanCustomerData = clean_data(customers)\n",
    "CleanCustomerData.shape\n",
    "\n",
    "\n"
   ]
  },
  {
   "cell_type": "code",
   "execution_count": 34,
   "metadata": {},
   "outputs": [
    {
     "name": "stdout",
     "output_type": "stream",
     "text": [
      "['BALLRAUM', 'PLZ8_ANTG3', 'KBA05_ANTG3', 'ANZ_HAUSHALTE_AKTIV', 'MIN_GEBAEUDEJAHR', 'KBA05_ANTG2', 'REGIOTYP', 'RELAT_AB', 'ANZ_TITEL', 'PLZ8_HHZ', 'ANZ_HH_TITEL', 'KKK', 'PLZ8_ANTG2', 'PLZ8_GBZ', 'KBA05_ANTG1', 'INNENSTADT', 'KONSUMNAEHE', 'PLZ8_ANTG1', 'LIFE_STAGE', 'SOHO_KZ', 'OST_WEST_KZ', 'ORTSGR_KLS9', 'ARBEIT', 'WEALTH', 'KBA13_ANZAHL_PKW', 'PLZ8_ANTG4', 'WOHNDAUER_2008', 'KBA05_ANTG4', 'EWDICHTE', 'GEBAEUDETYP_RASTER', 'ANZ_PERSONEN', 'KBA05_GBZ', 'W_KEIT_KIND_HH', 'MOBI_REGIO']\n",
      "34\n",
      "(188439, 64)\n",
      "(798067, 63)\n",
      "--------------\n",
      "['ALTERSKATEGORIE_GROB', 'ANREDE_KZ', 'DECADE', 'FINANZ_ANLEGER', 'FINANZ_HAUSBAUER', 'FINANZ_MINIMALIST', 'FINANZ_SPARER', 'FINANZ_UNAUFFAELLIGER', 'FINANZ_VORSORGER', 'GEBURTSJAHR', 'GREEN_AVANTGARDE', 'HEALTH_TYP', 'HH_EINKOMMEN_SCORE', 'MOVEMENT', 'ONLINE_AFFINITAET', 'RETOURTYP_BK_S', 'SEMIO_DOM', 'SEMIO_ERL', 'SEMIO_FAM', 'SEMIO_KAEM', 'SEMIO_KRIT', 'SEMIO_KULT', 'SEMIO_LUST', 'SEMIO_MAT', 'SEMIO_PFLICHT', 'SEMIO_RAT', 'SEMIO_REL', 'SEMIO_SOZ', 'SEMIO_TRADV', 'SEMIO_VERT']\n",
      "--------------\n",
      "['ALTERSKATEGORIE_GROB', 'ANREDE_KZ', 'ANZ_HAUSHALTE_AKTIV', 'ANZ_HH_TITEL', 'ANZ_PERSONEN', 'ANZ_TITEL', 'ARBEIT', 'BALLRAUM', 'DECADE', 'EWDICHTE', 'FINANZ_ANLEGER', 'FINANZ_HAUSBAUER', 'FINANZ_MINIMALIST', 'FINANZ_SPARER', 'FINANZ_UNAUFFAELLIGER', 'FINANZ_VORSORGER', 'GEBAEUDETYP_RASTER', 'GREEN_AVANTGARDE', 'HEALTH_TYP', 'HH_EINKOMMEN_SCORE', 'INNENSTADT', 'KBA05_ANTG1', 'KBA05_ANTG2', 'KBA05_ANTG3', 'KBA05_ANTG4', 'KBA05_GBZ', 'KBA13_ANZAHL_PKW', 'KKK', 'KONSUMNAEHE', 'LIFE_STAGE', 'MIN_GEBAEUDEJAHR', 'MOBI_REGIO', 'MOVEMENT', 'ONLINE_AFFINITAET', 'ORTSGR_KLS9', 'OST_WEST_KZ', 'PLZ8_ANTG1', 'PLZ8_ANTG2', 'PLZ8_ANTG3', 'PLZ8_ANTG4', 'PLZ8_GBZ', 'PLZ8_HHZ', 'REGIOTYP', 'RELAT_AB', 'RETOURTYP_BK_S', 'SEMIO_DOM', 'SEMIO_ERL', 'SEMIO_FAM', 'SEMIO_KAEM', 'SEMIO_KRIT', 'SEMIO_KULT', 'SEMIO_LUST', 'SEMIO_MAT', 'SEMIO_PFLICHT', 'SEMIO_RAT', 'SEMIO_REL', 'SEMIO_SOZ', 'SEMIO_TRADV', 'SEMIO_VERT', 'SOHO_KZ', 'WEALTH', 'WOHNDAUER_2008', 'W_KEIT_KIND_HH']\n"
     ]
    }
   ],
   "source": [
    "azdiasColumns = CleanScaledData.columns.tolist() #CleanScaledData is for the demographic data\n",
    "ImputedDataColumns = CleanCustomerData.columns.tolist() #ImputedData is for the customer data\n",
    "azdiasColumns.sort()\n",
    "ImputedDataColumns.sort()\n",
    "def difference(azdiasColumns , ImputedDataColumns): \n",
    "    return (list(set(azdiasColumns) - set(ImputedDataColumns))) \n",
    "print(difference(azdiasColumns , ImputedDataColumns ))\n",
    "print(len(difference(azdiasColumns , ImputedDataColumns )))\n",
    "\n",
    "AddedColumns =['ANZ_PERSONEN', 'GEBAEUDETYP_RASTER', 'REGIOTYP', 'EWDICHTE', 'KBA05_GBZ', 'PLZ8_HHZ', 'ORTSGR_KLS9', 'MIN_GEBAEUDEJAHR', 'KBA05_ANTG2', 'OST_WEST_KZ', 'PLZ8_ANTG1', 'RELAT_AB', 'PLZ8_ANTG3', 'KKK', 'PLZ8_ANTG2', 'ARBEIT', 'W_KEIT_KIND_HH', 'ANZ_TITEL', 'SOHO_KZ', 'WOHNDAUER_2008', 'KBA05_ANTG4', 'ANZ_HH_TITEL', 'KBA13_ANZAHL_PKW', 'KBA05_ANTG3', 'KONSUMNAEHE', 'MOBI_REGIO', 'PLZ8_GBZ', 'INNENSTADT', 'PLZ8_ANTG4', 'WEALTH', 'BALLRAUM', 'ANZ_HAUSHALTE_AKTIV', 'LIFE_STAGE', 'KBA05_ANTG1']\n",
    "for i in range(len(AddedColumns)):\n",
    "    CleanCustomerData.insert(2, AddedColumns[i], 0)\n",
    "\n",
    "#CleanCustomerData = CleanCustomerData.drop('GEBURTSJAHR', 1)\n",
    "   \n",
    "print(CleanCustomerData.shape)\n",
    "#print(\"==========\")\n",
    "print(CleanScaledData.shape)\n",
    "\n",
    "print(\"--------------\")\n",
    "print(ImputedDataColumns)\n",
    "print(\"--------------\")\n",
    "print(azdiasColumns)"
   ]
  },
  {
   "cell_type": "code",
   "execution_count": 35,
   "metadata": {},
   "outputs": [
    {
     "name": "stdout",
     "output_type": "stream",
     "text": [
      "(188439, 63)\n",
      "(798067, 63)\n"
     ]
    }
   ],
   "source": [
    "CleanCustomerData = CleanCustomerData.drop('GEBURTSJAHR', 1)\n",
    "   \n",
    "print(CleanCustomerData.shape)\n",
    "#print(\"==========\")\n",
    "print(CleanScaledData.shape)\n"
   ]
  },
  {
   "cell_type": "code",
   "execution_count": 36,
   "metadata": {},
   "outputs": [
    {
     "data": {
      "text/plain": [
       "(188439, 63)"
      ]
     },
     "execution_count": 36,
     "metadata": {},
     "output_type": "execute_result"
    }
   ],
   "source": [
    "ImputedData = pd.DataFrame(MissigDataFiller.transform(CleanCustomerData))\n",
    "\n",
    "#CleanScaledCustomerData = pd.DataFrame(CleanScaledCustomerData, columns=list(CleanScaledCustomerData))\n",
    "ImputedData.columns = CleanCustomerData.columns\n",
    "ImputedData.index = CleanCustomerData.index\n",
    "ImputedData.shape\n",
    "\n",
    "\n"
   ]
  },
  {
   "cell_type": "markdown",
   "metadata": {},
   "source": [
    "### Step 3.3: Compare Customer Data to Demographics Data\n",
    "\n",
    "At this point, you have clustered data based on demographics of the general population of Germany, and seen how the customer data for a mail-order sales company maps onto those demographic clusters. In this final substep, you will compare the two cluster distributions to see where the strongest customer base for the company is.\n",
    "\n",
    "Consider the proportion of persons in each cluster for the general population, and the proportions for the customers. If we think the company's customer base to be universal, then the cluster assignment proportions should be fairly similar between the two. If there are only particular segments of the population that are interested in the company's products, then we should see a mismatch from one to the other. If there is a higher proportion of persons in a cluster for the customer data compared to the general population (e.g. 5% of persons are assigned to a cluster for the general population, but 15% of the customer data is closest to that cluster's centroid) then that suggests the people in that cluster to be a target audience for the company. On the other hand, the proportion of the data in a cluster being larger in the general population than the customer data (e.g. only 2% of customers closest to a population centroid that captures 6% of the data) suggests that group of persons to be outside of the target demographics.\n",
    "\n",
    "Take a look at the following points in this step:\n",
    "\n",
    "- Compute the proportion of data points in each cluster for the general population and the customer data. Visualizations will be useful here: both for the individual dataset proportions, but also to visualize the ratios in cluster representation between groups. Seaborn's [`countplot()`](https://seaborn.pydata.org/generated/seaborn.countplot.html) or [`barplot()`](https://seaborn.pydata.org/generated/seaborn.barplot.html) function could be handy.\n",
    "  - Recall the analysis you performed in step 1.1.3 of the project, where you separated out certain data points from the dataset if they had more than a specified threshold of missing values. If you found that this group was qualitatively different from the main bulk of the data, you should treat this as an additional data cluster in this analysis. Make sure that you account for the number of data points in this subset, for both the general population and customer datasets, when making your computations!\n",
    "- Which cluster or clusters are overrepresented in the customer dataset compared to the general population? Select at least one such cluster and infer what kind of people might be represented by that cluster. Use the principal component interpretations from step 2.3 or look at additional components to help you make this inference. Alternatively, you can use the `.inverse_transform()` method of the PCA and StandardScaler objects to transform centroids back to the original data space and interpret the retrieved values directly.\n",
    "- Perform a similar investigation for the underrepresented clusters. Which cluster or clusters are underrepresented in the customer dataset compared to the general population, and what kinds of people are typified by these clusters?"
   ]
  },
  {
   "cell_type": "code",
   "execution_count": null,
   "metadata": {},
   "outputs": [],
   "source": [
    "\n",
    "    \n"
   ]
  },
  {
   "cell_type": "code",
   "execution_count": 37,
   "metadata": {},
   "outputs": [],
   "source": [
    "CleanScaledCustomerData = scaler.transform(ImputedData)\n"
   ]
  },
  {
   "cell_type": "code",
   "execution_count": 38,
   "metadata": {},
   "outputs": [
    {
     "name": "stdout",
     "output_type": "stream",
     "text": [
      "(798067, 63)\n",
      "(188439, 63)\n"
     ]
    }
   ],
   "source": [
    "print(CleanScaledData.shape )\n",
    "print(CleanScaledCustomerData.shape)\n",
    "    "
   ]
  },
  {
   "cell_type": "code",
   "execution_count": 39,
   "metadata": {},
   "outputs": [],
   "source": [
    "customers_reducedPCA = reducedComponentPCA.transform(CleanScaledCustomerData)\n",
    "CleanScaledCustomerData_pred = ReFittedModel.predict(customers_reducedPCA)"
   ]
  },
  {
   "cell_type": "code",
   "execution_count": 40,
   "metadata": {},
   "outputs": [
    {
     "name": "stdout",
     "output_type": "stream",
     "text": [
      "(188439, 30)\n",
      "[12 12 12 ..., 12 12 12]\n"
     ]
    }
   ],
   "source": [
    "print(customers_reducedPCA.shape)\n",
    "print(CleanScaledCustomerData_pred)"
   ]
  },
  {
   "cell_type": "code",
   "execution_count": 41,
   "metadata": {},
   "outputs": [
    {
     "data": {
      "text/plain": [
       "Text(0.5,1,'General Clusters')"
      ]
     },
     "execution_count": 41,
     "metadata": {},
     "output_type": "execute_result"
    },
    {
     "data": {
      "image/png": "[encoded data removed]",
      "text/plain": [
       "<matplotlib.figure.Figure at 0x7f469900f320>"
      ]
     },
     "metadata": {
      "needs_background": "light"
     },
     "output_type": "display_data"
    }
   ],
   "source": [
    "# Compare the proportion of data in each cluster for the customer data to the\n",
    "# proportion of data in each cluster for the general population.\n",
    "figure, axs = plt.subplots(nrows=1, ncols=2, figsize = (15,8))\n",
    "figure.subplots_adjust(hspace = 1, wspace=.4)\n",
    "\n",
    "sns.countplot(CleanScaledCustomerData_pred, ax=axs[0])\n",
    "axs[0].set_title('Customer Clusters')\n",
    "sns.countplot(ReducedData_pred, ax=axs[1])\n",
    "axs[1].set_title('General Clusters')\n"
   ]
  },
  {
   "cell_type": "code",
   "execution_count": 42,
   "metadata": {},
   "outputs": [
    {
     "data": {
      "text/html": [
       "<div>\n",
       "<style scoped>\n",
       "    .dataframe tbody tr th:only-of-type {\n",
       "        vertical-align: middle;\n",
       "    }\n",
       "\n",
       "    .dataframe tbody tr th {\n",
       "        vertical-align: top;\n",
       "    }\n",
       "\n",
       "    .dataframe thead th {\n",
       "        text-align: right;\n",
       "    }\n",
       "</style>\n",
       "<table border=\"1\" class=\"dataframe\">\n",
       "  <thead>\n",
       "    <tr style=\"text-align: right;\">\n",
       "      <th></th>\n",
       "      <th>0</th>\n",
       "    </tr>\n",
       "  </thead>\n",
       "  <tbody>\n",
       "    <tr>\n",
       "      <th>ALTERSKATEGORIE_GROB</th>\n",
       "      <td>3.385961</td>\n",
       "    </tr>\n",
       "    <tr>\n",
       "      <th>ANREDE_KZ</th>\n",
       "      <td>1.330983</td>\n",
       "    </tr>\n",
       "    <tr>\n",
       "      <th>FINANZ_MINIMALIST</th>\n",
       "      <td>3.029331</td>\n",
       "    </tr>\n",
       "    <tr>\n",
       "      <th>FINANZ_SPARER</th>\n",
       "      <td>2.043645</td>\n",
       "    </tr>\n",
       "    <tr>\n",
       "      <th>FINANZ_VORSORGER</th>\n",
       "      <td>4.096819</td>\n",
       "    </tr>\n",
       "    <tr>\n",
       "      <th>FINANZ_ANLEGER</th>\n",
       "      <td>1.979082</td>\n",
       "    </tr>\n",
       "    <tr>\n",
       "      <th>FINANZ_UNAUFFAELLIGER</th>\n",
       "      <td>1.754606</td>\n",
       "    </tr>\n",
       "    <tr>\n",
       "      <th>FINANZ_HAUSBAUER</th>\n",
       "      <td>3.875067</td>\n",
       "    </tr>\n",
       "    <tr>\n",
       "      <th>GREEN_AVANTGARDE</th>\n",
       "      <td>0.047211</td>\n",
       "    </tr>\n",
       "    <tr>\n",
       "      <th>HEALTH_TYP</th>\n",
       "      <td>2.309176</td>\n",
       "    </tr>\n",
       "    <tr>\n",
       "      <th>RETOURTYP_BK_S</th>\n",
       "      <td>4.241575</td>\n",
       "    </tr>\n",
       "    <tr>\n",
       "      <th>SEMIO_SOZ</th>\n",
       "      <td>4.622314</td>\n",
       "    </tr>\n",
       "    <tr>\n",
       "      <th>SEMIO_FAM</th>\n",
       "      <td>4.243761</td>\n",
       "    </tr>\n",
       "    <tr>\n",
       "      <th>SEMIO_REL</th>\n",
       "      <td>3.216397</td>\n",
       "    </tr>\n",
       "    <tr>\n",
       "      <th>SEMIO_MAT</th>\n",
       "      <td>3.534553</td>\n",
       "    </tr>\n",
       "    <tr>\n",
       "      <th>SEMIO_VERT</th>\n",
       "      <td>4.871925</td>\n",
       "    </tr>\n",
       "    <tr>\n",
       "      <th>SEMIO_LUST</th>\n",
       "      <td>4.965529</td>\n",
       "    </tr>\n",
       "    <tr>\n",
       "      <th>SEMIO_ERL</th>\n",
       "      <td>4.950150</td>\n",
       "    </tr>\n",
       "    <tr>\n",
       "      <th>SEMIO_KULT</th>\n",
       "      <td>4.122268</td>\n",
       "    </tr>\n",
       "    <tr>\n",
       "      <th>SEMIO_RAT</th>\n",
       "      <td>2.781975</td>\n",
       "    </tr>\n",
       "    <tr>\n",
       "      <th>SEMIO_KRIT</th>\n",
       "      <td>4.321943</td>\n",
       "    </tr>\n",
       "    <tr>\n",
       "      <th>SEMIO_DOM</th>\n",
       "      <td>4.118141</td>\n",
       "    </tr>\n",
       "    <tr>\n",
       "      <th>SEMIO_KAEM</th>\n",
       "      <td>3.963642</td>\n",
       "    </tr>\n",
       "    <tr>\n",
       "      <th>SEMIO_PFLICHT</th>\n",
       "      <td>3.216264</td>\n",
       "    </tr>\n",
       "    <tr>\n",
       "      <th>SEMIO_TRADV</th>\n",
       "      <td>2.669689</td>\n",
       "    </tr>\n",
       "    <tr>\n",
       "      <th>SOHO_KZ</th>\n",
       "      <td>0.007842</td>\n",
       "    </tr>\n",
       "    <tr>\n",
       "      <th>ANZ_PERSONEN</th>\n",
       "      <td>1.431289</td>\n",
       "    </tr>\n",
       "    <tr>\n",
       "      <th>ANZ_TITEL</th>\n",
       "      <td>0.004031</td>\n",
       "    </tr>\n",
       "    <tr>\n",
       "      <th>HH_EINKOMMEN_SCORE</th>\n",
       "      <td>5.468582</td>\n",
       "    </tr>\n",
       "    <tr>\n",
       "      <th>W_KEIT_KIND_HH</th>\n",
       "      <td>4.953305</td>\n",
       "    </tr>\n",
       "    <tr>\n",
       "      <th>...</th>\n",
       "      <td>...</td>\n",
       "    </tr>\n",
       "    <tr>\n",
       "      <th>KONSUMNAEHE</th>\n",
       "      <td>2.418312</td>\n",
       "    </tr>\n",
       "    <tr>\n",
       "      <th>MIN_GEBAEUDEJAHR</th>\n",
       "      <td>1992.465904</td>\n",
       "    </tr>\n",
       "    <tr>\n",
       "      <th>OST_WEST_KZ</th>\n",
       "      <td>0.346060</td>\n",
       "    </tr>\n",
       "    <tr>\n",
       "      <th>KBA05_ANTG1</th>\n",
       "      <td>0.417599</td>\n",
       "    </tr>\n",
       "    <tr>\n",
       "      <th>KBA05_ANTG2</th>\n",
       "      <td>1.625122</td>\n",
       "    </tr>\n",
       "    <tr>\n",
       "      <th>KBA05_ANTG3</th>\n",
       "      <td>1.617786</td>\n",
       "    </tr>\n",
       "    <tr>\n",
       "      <th>KBA05_ANTG4</th>\n",
       "      <td>0.266458</td>\n",
       "    </tr>\n",
       "    <tr>\n",
       "      <th>KBA05_GBZ</th>\n",
       "      <td>2.405824</td>\n",
       "    </tr>\n",
       "    <tr>\n",
       "      <th>BALLRAUM</th>\n",
       "      <td>3.330330</td>\n",
       "    </tr>\n",
       "    <tr>\n",
       "      <th>EWDICHTE</th>\n",
       "      <td>5.037245</td>\n",
       "    </tr>\n",
       "    <tr>\n",
       "      <th>INNENSTADT</th>\n",
       "      <td>3.446506</td>\n",
       "    </tr>\n",
       "    <tr>\n",
       "      <th>GEBAEUDETYP_RASTER</th>\n",
       "      <td>3.663737</td>\n",
       "    </tr>\n",
       "    <tr>\n",
       "      <th>KKK</th>\n",
       "      <td>3.078978</td>\n",
       "    </tr>\n",
       "    <tr>\n",
       "      <th>MOBI_REGIO</th>\n",
       "      <td>1.994451</td>\n",
       "    </tr>\n",
       "    <tr>\n",
       "      <th>ONLINE_AFFINITAET</th>\n",
       "      <td>1.746298</td>\n",
       "    </tr>\n",
       "    <tr>\n",
       "      <th>REGIOTYP</th>\n",
       "      <td>5.158755</td>\n",
       "    </tr>\n",
       "    <tr>\n",
       "      <th>KBA13_ANZAHL_PKW</th>\n",
       "      <td>456.535868</td>\n",
       "    </tr>\n",
       "    <tr>\n",
       "      <th>PLZ8_ANTG1</th>\n",
       "      <td>1.357239</td>\n",
       "    </tr>\n",
       "    <tr>\n",
       "      <th>PLZ8_ANTG2</th>\n",
       "      <td>3.552065</td>\n",
       "    </tr>\n",
       "    <tr>\n",
       "      <th>PLZ8_ANTG3</th>\n",
       "      <td>2.558457</td>\n",
       "    </tr>\n",
       "    <tr>\n",
       "      <th>PLZ8_ANTG4</th>\n",
       "      <td>1.208424</td>\n",
       "    </tr>\n",
       "    <tr>\n",
       "      <th>PLZ8_HHZ</th>\n",
       "      <td>3.472746</td>\n",
       "    </tr>\n",
       "    <tr>\n",
       "      <th>PLZ8_GBZ</th>\n",
       "      <td>2.481129</td>\n",
       "    </tr>\n",
       "    <tr>\n",
       "      <th>ARBEIT</th>\n",
       "      <td>3.844409</td>\n",
       "    </tr>\n",
       "    <tr>\n",
       "      <th>ORTSGR_KLS9</th>\n",
       "      <td>6.787880</td>\n",
       "    </tr>\n",
       "    <tr>\n",
       "      <th>RELAT_AB</th>\n",
       "      <td>3.862400</td>\n",
       "    </tr>\n",
       "    <tr>\n",
       "      <th>DECADE</th>\n",
       "      <td>3.548243</td>\n",
       "    </tr>\n",
       "    <tr>\n",
       "      <th>MOVEMENT</th>\n",
       "      <td>0.952789</td>\n",
       "    </tr>\n",
       "    <tr>\n",
       "      <th>WEALTH</th>\n",
       "      <td>4.342811</td>\n",
       "    </tr>\n",
       "    <tr>\n",
       "      <th>LIFE_STAGE</th>\n",
       "      <td>2.492087</td>\n",
       "    </tr>\n",
       "  </tbody>\n",
       "</table>\n",
       "<p>63 rows × 1 columns</p>\n",
       "</div>"
      ],
      "text/plain": [
       "                                 0\n",
       "ALTERSKATEGORIE_GROB      3.385961\n",
       "ANREDE_KZ                 1.330983\n",
       "FINANZ_MINIMALIST         3.029331\n",
       "FINANZ_SPARER             2.043645\n",
       "FINANZ_VORSORGER          4.096819\n",
       "FINANZ_ANLEGER            1.979082\n",
       "FINANZ_UNAUFFAELLIGER     1.754606\n",
       "FINANZ_HAUSBAUER          3.875067\n",
       "GREEN_AVANTGARDE          0.047211\n",
       "HEALTH_TYP                2.309176\n",
       "RETOURTYP_BK_S            4.241575\n",
       "SEMIO_SOZ                 4.622314\n",
       "SEMIO_FAM                 4.243761\n",
       "SEMIO_REL                 3.216397\n",
       "SEMIO_MAT                 3.534553\n",
       "SEMIO_VERT                4.871925\n",
       "SEMIO_LUST                4.965529\n",
       "SEMIO_ERL                 4.950150\n",
       "SEMIO_KULT                4.122268\n",
       "SEMIO_RAT                 2.781975\n",
       "SEMIO_KRIT                4.321943\n",
       "SEMIO_DOM                 4.118141\n",
       "SEMIO_KAEM                3.963642\n",
       "SEMIO_PFLICHT             3.216264\n",
       "SEMIO_TRADV               2.669689\n",
       "SOHO_KZ                   0.007842\n",
       "ANZ_PERSONEN              1.431289\n",
       "ANZ_TITEL                 0.004031\n",
       "HH_EINKOMMEN_SCORE        5.468582\n",
       "W_KEIT_KIND_HH            4.953305\n",
       "...                            ...\n",
       "KONSUMNAEHE               2.418312\n",
       "MIN_GEBAEUDEJAHR       1992.465904\n",
       "OST_WEST_KZ               0.346060\n",
       "KBA05_ANTG1               0.417599\n",
       "KBA05_ANTG2               1.625122\n",
       "KBA05_ANTG3               1.617786\n",
       "KBA05_ANTG4               0.266458\n",
       "KBA05_GBZ                 2.405824\n",
       "BALLRAUM                  3.330330\n",
       "EWDICHTE                  5.037245\n",
       "INNENSTADT                3.446506\n",
       "GEBAEUDETYP_RASTER        3.663737\n",
       "KKK                       3.078978\n",
       "MOBI_REGIO                1.994451\n",
       "ONLINE_AFFINITAET         1.746298\n",
       "REGIOTYP                  5.158755\n",
       "KBA13_ANZAHL_PKW        456.535868\n",
       "PLZ8_ANTG1                1.357239\n",
       "PLZ8_ANTG2                3.552065\n",
       "PLZ8_ANTG3                2.558457\n",
       "PLZ8_ANTG4                1.208424\n",
       "PLZ8_HHZ                  3.472746\n",
       "PLZ8_GBZ                  2.481129\n",
       "ARBEIT                    3.844409\n",
       "ORTSGR_KLS9               6.787880\n",
       "RELAT_AB                  3.862400\n",
       "DECADE                    3.548243\n",
       "MOVEMENT                  0.952789\n",
       "WEALTH                    4.342811\n",
       "LIFE_STAGE                2.492087\n",
       "\n",
       "[63 rows x 1 columns]"
      ]
     },
     "execution_count": 42,
     "metadata": {},
     "output_type": "execute_result"
    }
   ],
   "source": [
    "# What kinds of people are part of a cluster that is overrepresented in the\n",
    "# customer data compared to the general population?   \n",
    "#cluster 5 is underpresented\n",
    "\n",
    "array = pd.DataFrame(ReFittedModel.cluster_centers_[5])\n",
    "array = np.transpose(array)\n",
    "#print(array.shape)\n",
    "centroid_5 = scaler.inverse_transform(reducedComponentPCA.inverse_transform(array))\n",
    "\n",
    "\n",
    "\n",
    "#centroid_5= centroid_5.tolist()\n",
    "\n",
    "#print(centroid_5.type())\n",
    "#print(len(centroid_5))\n",
    "underrepresented_people = pd.DataFrame(data = np.transpose(centroid_5))\n",
    "underrepresented_people.index = azdias_clean.columns\n",
    "underrepresented_people\n",
    "\n"
   ]
  },
  {
   "cell_type": "code",
   "execution_count": null,
   "metadata": {},
   "outputs": [],
   "source": [
    "###Discussion: Cluster 5 is underrepresented in the customers data. Some characteristics of the segment of the population that are relatively unpopular with the company:\n",
    "\n",
    "#in areas where the share of 6-10 family homes is higher (PLZ8_ANTG3=1.72)\n",
    "#in Less Affluent or Poorer households (WEALTH=4.97)\n",
    "#in life stage of Pre-Family Couples & Singles or Young Couples With Children (LIFE_STAGE=3.53)"
   ]
  },
  {
   "cell_type": "code",
   "execution_count": null,
   "metadata": {},
   "outputs": [],
   "source": []
  },
  {
   "cell_type": "markdown",
   "metadata": {},
   "source": [
    "## Discussion 3.3: Compare Customer Data to Demographics Data\n",
    "\n",
    "Cluster 12 is overrepresented in the customers data compared to general population data.Some characteristics of the segment of the population that are relatively important with the company:\n",
    "\n",
    "like SEMIO_REL, SEMIO_FAM, SEMIO_MAT, SEMIO_KAEM....\n",
    "\n",
    "\n",
    "Cluster 1 is underrepresented in the customers data. Some characteristics of the segment of the population that are relatively unpopular with the company:\n",
    "\n",
    "like GEBURTSJAHR, ALTERSKATEGORIE_GROB,ONLINE_AFFINITAET....\n",
    "\n"
   ]
  },
  {
   "cell_type": "markdown",
   "metadata": {},
   "source": [
    "> Congratulations on making it this far in the project! Before you finish, make sure to check through the entire notebook from top to bottom to make sure that your analysis follows a logical flow and all of your findings are documented in **Discussion** cells. Once you've checked over all of your work, you should export the notebook as an HTML document to submit for evaluation. You can do this from the menu, navigating to **File -> Download as -> HTML (.html)**. You will submit both that document and this notebook for your project submission."
   ]
  },
  {
   "cell_type": "code",
   "execution_count": null,
   "metadata": {},
   "outputs": [],
   "source": []
  }
 ],
 "metadata": {
  "kernelspec": {
   "display_name": "Python 3",
   "language": "python",
   "name": "python3"
  },
  "language_info": {
   "codemirror_mode": {
    "name": "ipython",
    "version": 3
   },
   "file_extension": ".py",
   "mimetype": "text/x-python",
   "name": "python",
   "nbconvert_exporter": "python",
   "pygments_lexer": "ipython3",
   "version": "3.6.3"
  }
 },
 "nbformat": 4,
 "nbformat_minor": 2
}
